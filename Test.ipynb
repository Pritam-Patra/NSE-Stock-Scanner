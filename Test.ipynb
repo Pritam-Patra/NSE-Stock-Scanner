{
 "cells": [
  {
   "cell_type": "code",
   "execution_count": 1,
   "id": "26e1947d-ec11-4e5e-a7c9-9b138713a265",
   "metadata": {},
   "outputs": [
    {
     "data": {
      "text/plain": [
       "'065676'"
      ]
     },
     "execution_count": 1,
     "metadata": {},
     "output_type": "execute_result"
    }
   ],
   "source": [
    "'065676'"
   ]
  },
  {
   "cell_type": "markdown",
   "id": "bb113095-c346-4fc5-b235-30c690f2cf9d",
   "metadata": {},
   "source": [
    "# Imports"
   ]
  },
  {
   "cell_type": "code",
   "execution_count": 2,
   "id": "d4751541-a01b-4adc-852c-99f23a71ff88",
   "metadata": {},
   "outputs": [],
   "source": [
    "import backtrader\n",
    "from helpers.datahandler import *\n",
    "from helpers.investing import *\n",
    "from helpers.journal_handler import *"
   ]
  },
  {
   "cell_type": "markdown",
   "id": "2e516fd3-cbfe-4191-8d5e-acc550eb6fdd",
   "metadata": {},
   "source": [
    "# Defaults"
   ]
  },
  {
   "cell_type": "code",
   "execution_count": 3,
   "id": "0d71aee3-103a-4fab-8401-16e854207a41",
   "metadata": {},
   "outputs": [],
   "source": [
    "pd.set_option('display.max_rows', 100)\n",
    "\n",
    "\n",
    "\n",
    "In = Investing()\n",
    "\n",
    "# private_key = join(expanduser('~'),'Documents','client_secret.json')\n",
    "# JH = JournalHandler(private_key)\n",
    "\n",
    "# journal = JH.get_journal('Finance Journal')\n",
    "\n",
    "# In.get_whole_recent_info('HCLTECH')"
   ]
  },
  {
   "cell_type": "markdown",
   "id": "4d03ecd1-3830-43ef-a937-45b75b39c37e",
   "metadata": {},
   "source": [
    "# Work"
   ]
  },
  {
   "cell_type": "code",
   "execution_count": 4,
   "id": "1c8156d2-d226-431a-9835-14ce171cd699",
   "metadata": {},
   "outputs": [],
   "source": [
    "# df = In.show_full_stats(10000,100.10, diff = None, nifty='nifty_200')\n",
    "\n",
    "# df = df[(df['Expected Change %'] <=15) & (df['RSI']<70) & (df['Ichi']>=1)]\n",
    "# df"
   ]
  },
  {
   "cell_type": "code",
   "execution_count": 11,
   "id": "98822989-8cf0-4939-8a95-9e6dadfa944b",
   "metadata": {},
   "outputs": [
    {
     "data": {
      "text/html": [
       "<div>\n",
       "<style scoped>\n",
       "    .dataframe tbody tr th:only-of-type {\n",
       "        vertical-align: middle;\n",
       "    }\n",
       "\n",
       "    .dataframe tbody tr th {\n",
       "        vertical-align: top;\n",
       "    }\n",
       "\n",
       "    .dataframe thead th {\n",
       "        text-align: right;\n",
       "    }\n",
       "</style>\n",
       "<table border=\"1\" class=\"dataframe\">\n",
       "  <thead>\n",
       "    <tr style=\"text-align: right;\">\n",
       "      <th></th>\n",
       "      <th>Date</th>\n",
       "      <th>Name</th>\n",
       "      <th>Index</th>\n",
       "      <th>Over 20-SMA</th>\n",
       "      <th>Over 50-SMA</th>\n",
       "      <th>Over 100-SMA</th>\n",
       "      <th>Over 200-SMA</th>\n",
       "      <th>Overbought</th>\n",
       "      <th>Oversold</th>\n",
       "      <th>Ichi Count</th>\n",
       "      <th>1 Candle</th>\n",
       "      <th>2 Candles</th>\n",
       "      <th>3 Candles</th>\n",
       "    </tr>\n",
       "  </thead>\n",
       "  <tbody>\n",
       "    <tr>\n",
       "      <th>1</th>\n",
       "      <td>2021-08-04</td>\n",
       "      <td>ASIANPAINT</td>\n",
       "      <td>Nifty 50</td>\n",
       "      <td>False</td>\n",
       "      <td>True</td>\n",
       "      <td>True</td>\n",
       "      <td>True</td>\n",
       "      <td>False</td>\n",
       "      <td>False</td>\n",
       "      <td>1</td>\n",
       "      <td>Unknown</td>\n",
       "      <td>Bearish Engulfing</td>\n",
       "      <td>Unknown</td>\n",
       "    </tr>\n",
       "    <tr>\n",
       "      <th>23</th>\n",
       "      <td>2021-08-04</td>\n",
       "      <td>ITC</td>\n",
       "      <td>Nifty 50</td>\n",
       "      <td>True</td>\n",
       "      <td>True</td>\n",
       "      <td>True</td>\n",
       "      <td>True</td>\n",
       "      <td>False</td>\n",
       "      <td>False</td>\n",
       "      <td>1</td>\n",
       "      <td>Unknown</td>\n",
       "      <td>Unknown</td>\n",
       "      <td>Unknown</td>\n",
       "    </tr>\n",
       "    <tr>\n",
       "      <th>25</th>\n",
       "      <td>2021-08-04</td>\n",
       "      <td>INDUSINDBK</td>\n",
       "      <td>Nifty 50</td>\n",
       "      <td>True</td>\n",
       "      <td>True</td>\n",
       "      <td>True</td>\n",
       "      <td>True</td>\n",
       "      <td>False</td>\n",
       "      <td>False</td>\n",
       "      <td>1</td>\n",
       "      <td>Shooting Star</td>\n",
       "      <td>Unknown</td>\n",
       "      <td>Unknown</td>\n",
       "    </tr>\n",
       "    <tr>\n",
       "      <th>28</th>\n",
       "      <td>2021-08-04</td>\n",
       "      <td>KOTAKBANK</td>\n",
       "      <td>Nifty 50</td>\n",
       "      <td>True</td>\n",
       "      <td>True</td>\n",
       "      <td>False</td>\n",
       "      <td>False</td>\n",
       "      <td>False</td>\n",
       "      <td>False</td>\n",
       "      <td>1</td>\n",
       "      <td>Unknown</td>\n",
       "      <td>Unknown</td>\n",
       "      <td>Unknown</td>\n",
       "    </tr>\n",
       "    <tr>\n",
       "      <th>32</th>\n",
       "      <td>2021-08-04</td>\n",
       "      <td>NTPC</td>\n",
       "      <td>Nifty 50</td>\n",
       "      <td>False</td>\n",
       "      <td>True</td>\n",
       "      <td>True</td>\n",
       "      <td>True</td>\n",
       "      <td>False</td>\n",
       "      <td>False</td>\n",
       "      <td>1</td>\n",
       "      <td>Hanging Man</td>\n",
       "      <td>Unknown</td>\n",
       "      <td>V Pattern</td>\n",
       "    </tr>\n",
       "  </tbody>\n",
       "</table>\n",
       "</div>"
      ],
      "text/plain": [
       "         Date        Name     Index  Over 20-SMA  Over 50-SMA  Over 100-SMA  \\\n",
       "1  2021-08-04  ASIANPAINT  Nifty 50        False         True          True   \n",
       "23 2021-08-04         ITC  Nifty 50         True         True          True   \n",
       "25 2021-08-04  INDUSINDBK  Nifty 50         True         True          True   \n",
       "28 2021-08-04   KOTAKBANK  Nifty 50         True         True         False   \n",
       "32 2021-08-04        NTPC  Nifty 50        False         True          True   \n",
       "\n",
       "    Over 200-SMA  Overbought  Oversold  Ichi Count       1 Candle  \\\n",
       "1           True       False     False           1        Unknown   \n",
       "23          True       False     False           1        Unknown   \n",
       "25          True       False     False           1  Shooting Star   \n",
       "28         False       False     False           1        Unknown   \n",
       "32          True       False     False           1    Hanging Man   \n",
       "\n",
       "            2 Candles  3 Candles  \n",
       "1   Bearish Engulfing    Unknown  \n",
       "23            Unknown    Unknown  \n",
       "25            Unknown    Unknown  \n",
       "28            Unknown    Unknown  \n",
       "32            Unknown  V Pattern  "
      ]
     },
     "execution_count": 11,
     "metadata": {},
     "output_type": "execute_result"
    }
   ],
   "source": [
    "In = Investing()\n",
    "df = In.get_recent_info(nifty = 50, **{'mvs':[20,44,100,200]})\n",
    "df = df[(df['Overbought'] == False) & df['Ichi Count'] > 0]\n",
    "df"
   ]
  },
  {
   "cell_type": "code",
   "execution_count": null,
   "id": "986529fb-29ae-4298-9a19-940ca7405c06",
   "metadata": {},
   "outputs": [],
   "source": []
  }
 ],
 "metadata": {
  "kernelspec": {
   "display_name": "Python 3 (ipykernel)",
   "language": "python",
   "name": "python3"
  },
  "language_info": {
   "codemirror_mode": {
    "name": "ipython",
    "version": 3
   },
   "file_extension": ".py",
   "mimetype": "text/x-python",
   "name": "python",
   "nbconvert_exporter": "python",
   "pygments_lexer": "ipython3",
   "version": "3.7.10"
  }
 },
 "nbformat": 4,
 "nbformat_minor": 5
}
