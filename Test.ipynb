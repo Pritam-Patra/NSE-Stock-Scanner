{
 "cells": [
  {
   "cell_type": "code",
   "execution_count": 1,
   "id": "26e1947d-ec11-4e5e-a7c9-9b138713a265",
   "metadata": {},
   "outputs": [
    {
     "data": {
      "text/plain": [
       "'065676'"
      ]
     },
     "execution_count": 1,
     "metadata": {},
     "output_type": "execute_result"
    }
   ],
   "source": [
    "'065676'"
   ]
  },
  {
   "cell_type": "markdown",
   "id": "bb113095-c346-4fc5-b235-30c690f2cf9d",
   "metadata": {},
   "source": [
    "# Imports"
   ]
  },
  {
   "cell_type": "code",
   "execution_count": 2,
   "id": "d4751541-a01b-4adc-852c-99f23a71ff88",
   "metadata": {},
   "outputs": [],
   "source": [
    "import backtrader\n",
    "from helpers.datahandler import *\n",
    "from helpers.investing import *\n",
    "from helpers.journal_handler import *"
   ]
  },
  {
   "cell_type": "markdown",
   "id": "2e516fd3-cbfe-4191-8d5e-acc550eb6fdd",
   "metadata": {},
   "source": [
    "# Defaults"
   ]
  },
  {
   "cell_type": "code",
   "execution_count": 3,
   "id": "0d71aee3-103a-4fab-8401-16e854207a41",
   "metadata": {},
   "outputs": [
    {
     "name": "stdout",
     "output_type": "stream",
     "text": [
      "--------------------------------------------------------------------------- \n",
      "\n",
      "These Stocks can give you extra profit by moving the Stop Loss as Target once Target is about to be triggered. Keep a track of these: \n",
      "\n",
      "VIPIND bought on: 2021-07-29 00:00:00,\n",
      "\n",
      "--------------------------------------------------------------------------- \n",
      "\n"
     ]
    }
   ],
   "source": [
    "pd.set_option('display.max_rows', 100)\n",
    "\n",
    "\n",
    "\n",
    "In = Investing()\n",
    "\n",
    "# private_key = join(expanduser('~'),'Documents','client_secret.json')\n",
    "# JH = JournalHandler(private_key)\n",
    "\n",
    "# journal = JH.get_journal('Finance Journal')"
   ]
  },
  {
   "cell_type": "markdown",
   "id": "4d03ecd1-3830-43ef-a937-45b75b39c37e",
   "metadata": {},
   "source": [
    "# Work"
   ]
  },
  {
   "cell_type": "code",
   "execution_count": 4,
   "id": "1c8156d2-d226-431a-9835-14ce171cd699",
   "metadata": {},
   "outputs": [
    {
     "name": "stderr",
     "output_type": "stream",
     "text": [
      "/home/admin1/Desktop/ML Study/Finance/helpers/investing.py:214: UserWarning: You are risking 2.0% of your total PORTFOLIO. Going Like this, you'll lose Rs 3152.3550000000023 in 15 Trades. Try keeping it less than 1.1% @ Rs 110.0.\n",
      "  warnings.warn(f\"You are risking {round(max_loss/budget,2)*100}% of your total PORTFOLIO. Going Like this, you'll lose Rs {max_loss*15} in 15 Trades. Try keeping it less than 1.1% @ Rs {round(budget*0.011,2)}.\")\n",
      "/home/admin1/Desktop/ML Study/Finance/helpers/investing.py:230: UserWarning: Risk should be atleast 210.16 for you to afford HDFC\n",
      "  warnings.warn(f\"Risk should be atleast {r} for you to afford {name}\")\n",
      "/home/admin1/Desktop/ML Study/Finance/helpers/investing.py:214: UserWarning: You are risking 3.0% of your total PORTFOLIO. Going Like this, you'll lose Rs 3896.2350000000106 in 15 Trades. Try keeping it less than 1.1% @ Rs 110.0.\n",
      "  warnings.warn(f\"You are risking {round(max_loss/budget,2)*100}% of your total PORTFOLIO. Going Like this, you'll lose Rs {max_loss*15} in 15 Trades. Try keeping it less than 1.1% @ Rs {round(budget*0.011,2)}.\")\n",
      "/home/admin1/Desktop/ML Study/Finance/helpers/investing.py:230: UserWarning: Risk should be atleast 259.75 for you to afford INDIAMART\n",
      "  warnings.warn(f\"Risk should be atleast {r} for you to afford {name}\")\n",
      "/home/admin1/Desktop/ML Study/Finance/helpers/investing.py:214: UserWarning: You are risking 3.0% of your total PORTFOLIO. Going Like this, you'll lose Rs 4262.001750000004 in 15 Trades. Try keeping it less than 1.1% @ Rs 110.0.\n",
      "  warnings.warn(f\"You are risking {round(max_loss/budget,2)*100}% of your total PORTFOLIO. Going Like this, you'll lose Rs {max_loss*15} in 15 Trades. Try keeping it less than 1.1% @ Rs {round(budget*0.011,2)}.\")\n",
      "/home/admin1/Desktop/ML Study/Finance/helpers/investing.py:230: UserWarning: Risk should be atleast 284.13 for you to afford BAJFINANCE\n",
      "  warnings.warn(f\"Risk should be atleast {r} for you to afford {name}\")\n",
      "/home/admin1/Desktop/ML Study/Finance/helpers/investing.py:214: UserWarning: You are risking 2.0% of your total PORTFOLIO. Going Like this, you'll lose Rs 2453.6534999999867 in 15 Trades. Try keeping it less than 1.1% @ Rs 110.0.\n",
      "  warnings.warn(f\"You are risking {round(max_loss/budget,2)*100}% of your total PORTFOLIO. Going Like this, you'll lose Rs {max_loss*15} in 15 Trades. Try keeping it less than 1.1% @ Rs {round(budget*0.011,2)}.\")\n",
      "/home/admin1/Desktop/ML Study/Finance/helpers/investing.py:230: UserWarning: Risk should be atleast 163.58 for you to afford NAUKRI\n",
      "  warnings.warn(f\"Risk should be atleast {r} for you to afford {name}\")\n"
     ]
    },
    {
     "data": {
      "text/html": [
       "<div>\n",
       "<style scoped>\n",
       "    .dataframe tbody tr th:only-of-type {\n",
       "        vertical-align: middle;\n",
       "    }\n",
       "\n",
       "    .dataframe tbody tr th {\n",
       "        vertical-align: top;\n",
       "    }\n",
       "\n",
       "    .dataframe thead th {\n",
       "        text-align: right;\n",
       "    }\n",
       "</style>\n",
       "<table border=\"1\" class=\"dataframe\">\n",
       "  <thead>\n",
       "    <tr style=\"text-align: right;\">\n",
       "      <th></th>\n",
       "      <th>DATE</th>\n",
       "      <th>OPEN</th>\n",
       "      <th>HIGH</th>\n",
       "      <th>LOW</th>\n",
       "      <th>LTP</th>\n",
       "      <th>CLOSE</th>\n",
       "      <th>52W H</th>\n",
       "      <th>52W L</th>\n",
       "      <th>SYMBOL</th>\n",
       "      <th>Diff</th>\n",
       "      <th>Rising</th>\n",
       "      <th>Ichi</th>\n",
       "      <th>RSI</th>\n",
       "      <th>ATR</th>\n",
       "      <th>Triple Candle</th>\n",
       "      <th>Double Candle</th>\n",
       "      <th>Recent Candle</th>\n",
       "      <th>Index</th>\n",
       "      <th>Expected Change %</th>\n",
       "      <th>Max Config Risk</th>\n",
       "    </tr>\n",
       "  </thead>\n",
       "  <tbody>\n",
       "    <tr>\n",
       "      <th>12</th>\n",
       "      <td>2021-08-04</td>\n",
       "      <td>464.45</td>\n",
       "      <td>475.50</td>\n",
       "      <td>463.2</td>\n",
       "      <td>471.50</td>\n",
       "      <td>471.75</td>\n",
       "      <td>508.70</td>\n",
       "      <td>293.00</td>\n",
       "      <td>TORNTPOWER</td>\n",
       "      <td>0.53</td>\n",
       "      <td>True</td>\n",
       "      <td>2</td>\n",
       "      <td>56.485371</td>\n",
       "      <td>10.614286</td>\n",
       "      <td>Unknown</td>\n",
       "      <td>Bullish Engulfing</td>\n",
       "      <td>Unknown</td>\n",
       "      <td>Nifty 200</td>\n",
       "      <td>7.63</td>\n",
       "      <td>91.35</td>\n",
       "    </tr>\n",
       "    <tr>\n",
       "      <th>3</th>\n",
       "      <td>2021-08-04</td>\n",
       "      <td>2036.60</td>\n",
       "      <td>2052.00</td>\n",
       "      <td>2027.0</td>\n",
       "      <td>2047.00</td>\n",
       "      <td>2043.30</td>\n",
       "      <td>2178.00</td>\n",
       "      <td>1120.80</td>\n",
       "      <td>SIEMENS</td>\n",
       "      <td>6.33</td>\n",
       "      <td>False</td>\n",
       "      <td>1</td>\n",
       "      <td>60.712650</td>\n",
       "      <td>40.525000</td>\n",
       "      <td>Unknown</td>\n",
       "      <td>Unknown</td>\n",
       "      <td>Hammer</td>\n",
       "      <td>Nifty 100</td>\n",
       "      <td>7.27</td>\n",
       "      <td>75.03</td>\n",
       "    </tr>\n",
       "    <tr>\n",
       "      <th>1</th>\n",
       "      <td>2021-08-04</td>\n",
       "      <td>1698.70</td>\n",
       "      <td>1753.25</td>\n",
       "      <td>1685.0</td>\n",
       "      <td>1751.20</td>\n",
       "      <td>1749.95</td>\n",
       "      <td>2049.00</td>\n",
       "      <td>1230.60</td>\n",
       "      <td>KOTAKBANK</td>\n",
       "      <td>10.79</td>\n",
       "      <td>False</td>\n",
       "      <td>1</td>\n",
       "      <td>56.742375</td>\n",
       "      <td>38.582143</td>\n",
       "      <td>Unknown</td>\n",
       "      <td>Unknown</td>\n",
       "      <td>Unknown</td>\n",
       "      <td>Nifty 50</td>\n",
       "      <td>10.39</td>\n",
       "      <td>91.67</td>\n",
       "    </tr>\n",
       "    <tr>\n",
       "      <th>6</th>\n",
       "      <td>2021-08-04</td>\n",
       "      <td>1217.90</td>\n",
       "      <td>1239.90</td>\n",
       "      <td>1211.1</td>\n",
       "      <td>1233.25</td>\n",
       "      <td>1234.15</td>\n",
       "      <td>1468.45</td>\n",
       "      <td>1077.40</td>\n",
       "      <td>ESCORTS</td>\n",
       "      <td>20.70</td>\n",
       "      <td>True</td>\n",
       "      <td>2</td>\n",
       "      <td>66.490952</td>\n",
       "      <td>25.589286</td>\n",
       "      <td>Unknown</td>\n",
       "      <td>Unknown</td>\n",
       "      <td>Unknown</td>\n",
       "      <td>Nifty 200</td>\n",
       "      <td>7.27</td>\n",
       "      <td>90.67</td>\n",
       "    </tr>\n",
       "    <tr>\n",
       "      <th>4</th>\n",
       "      <td>2021-08-04</td>\n",
       "      <td>741.00</td>\n",
       "      <td>754.00</td>\n",
       "      <td>736.4</td>\n",
       "      <td>745.60</td>\n",
       "      <td>747.25</td>\n",
       "      <td>773.00</td>\n",
       "      <td>218.65</td>\n",
       "      <td>JSWSTEEL</td>\n",
       "      <td>34.69</td>\n",
       "      <td>True</td>\n",
       "      <td>2</td>\n",
       "      <td>63.004674</td>\n",
       "      <td>21.310714</td>\n",
       "      <td>V Pattern</td>\n",
       "      <td>Unknown</td>\n",
       "      <td>Inverted Hammer</td>\n",
       "      <td>Nifty 50</td>\n",
       "      <td>7.52</td>\n",
       "      <td>85.69</td>\n",
       "    </tr>\n",
       "  </tbody>\n",
       "</table>\n",
       "</div>"
      ],
      "text/plain": [
       "         DATE     OPEN     HIGH     LOW      LTP    CLOSE    52W H    52W L  \\\n",
       "12 2021-08-04   464.45   475.50   463.2   471.50   471.75   508.70   293.00   \n",
       "3  2021-08-04  2036.60  2052.00  2027.0  2047.00  2043.30  2178.00  1120.80   \n",
       "1  2021-08-04  1698.70  1753.25  1685.0  1751.20  1749.95  2049.00  1230.60   \n",
       "6  2021-08-04  1217.90  1239.90  1211.1  1233.25  1234.15  1468.45  1077.40   \n",
       "4  2021-08-04   741.00   754.00   736.4   745.60   747.25   773.00   218.65   \n",
       "\n",
       "        SYMBOL   Diff  Rising  Ichi        RSI        ATR Triple Candle  \\\n",
       "12  TORNTPOWER   0.53    True     2  56.485371  10.614286       Unknown   \n",
       "3      SIEMENS   6.33   False     1  60.712650  40.525000       Unknown   \n",
       "1    KOTAKBANK  10.79   False     1  56.742375  38.582143       Unknown   \n",
       "6      ESCORTS  20.70    True     2  66.490952  25.589286       Unknown   \n",
       "4     JSWSTEEL  34.69    True     2  63.004674  21.310714     V Pattern   \n",
       "\n",
       "        Double Candle    Recent Candle      Index  Expected Change %  \\\n",
       "12  Bullish Engulfing          Unknown  Nifty 200               7.63   \n",
       "3             Unknown           Hammer  Nifty 100               7.27   \n",
       "1             Unknown          Unknown   Nifty 50              10.39   \n",
       "6             Unknown          Unknown  Nifty 200               7.27   \n",
       "4             Unknown  Inverted Hammer   Nifty 50               7.52   \n",
       "\n",
       "    Max Config Risk  \n",
       "12            91.35  \n",
       "3             75.03  \n",
       "1             91.67  \n",
       "6             90.67  \n",
       "4             85.69  "
      ]
     },
     "execution_count": 4,
     "metadata": {},
     "output_type": "execute_result"
    }
   ],
   "source": [
    "df = In.show_full_stats(10000,100.10, diff = None, nifty='nifty_200')\n",
    "\n",
    "df = df[(df['Expected Change %'] <=15) & (df['RSI']<70) & (df['Ichi']>=1)]\n",
    "df"
   ]
  },
  {
   "cell_type": "code",
   "execution_count": 7,
   "id": "4d4da1b7-72d0-448b-8420-122f83b08a31",
   "metadata": {},
   "outputs": [
    {
     "data": {
      "text/plain": [
       "{'Buying Price': 2054.05,\n",
       " 'Stop-Loss %': 3.65,\n",
       " 'Target %': 7.27,\n",
       " 'Quantity': 1.0,\n",
       " 'Stop-Loss Price': 1979.019,\n",
       " 'Trigger Price': 2203.37,\n",
       " 'Risk Per Share': 75.03,\n",
       " 'Profit Per Share': 149.32,\n",
       " 'Max loss on this config': 75.03,\n",
       " 'Max Gain on this config': 149.32,\n",
       " 'Price To Profit Ratio': 13.69,\n",
       " 'Index': 'Nifty 100'}"
      ]
     },
     "execution_count": 7,
     "metadata": {},
     "output_type": "execute_result"
    }
   ],
   "source": [
    "In.get_particulars('SIEMENS',10000,101,)"
   ]
  },
  {
   "cell_type": "code",
   "execution_count": null,
   "id": "78be60f5-84df-47c6-861a-b5cc302746ae",
   "metadata": {},
   "outputs": [],
   "source": []
  }
 ],
 "metadata": {
  "kernelspec": {
   "display_name": "Python 3 (ipykernel)",
   "language": "python",
   "name": "python3"
  },
  "language_info": {
   "codemirror_mode": {
    "name": "ipython",
    "version": 3
   },
   "file_extension": ".py",
   "mimetype": "text/x-python",
   "name": "python",
   "nbconvert_exporter": "python",
   "pygments_lexer": "ipython3",
   "version": "3.7.10"
  }
 },
 "nbformat": 4,
 "nbformat_minor": 5
}
