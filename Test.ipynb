{
 "cells": [
  {
   "cell_type": "code",
   "execution_count": 1,
   "id": "26e1947d-ec11-4e5e-a7c9-9b138713a265",
   "metadata": {},
   "outputs": [
    {
     "data": {
      "text/plain": [
       "'065676'"
      ]
     },
     "execution_count": 1,
     "metadata": {},
     "output_type": "execute_result"
    }
   ],
   "source": [
    "'065676'"
   ]
  },
  {
   "cell_type": "markdown",
   "id": "bb113095-c346-4fc5-b235-30c690f2cf9d",
   "metadata": {},
   "source": [
    "# Imports"
   ]
  },
  {
   "cell_type": "code",
   "execution_count": 2,
   "id": "d4751541-a01b-4adc-852c-99f23a71ff88",
   "metadata": {},
   "outputs": [],
   "source": [
    "import backtrader\n",
    "from helpers.datahandler import *\n",
    "from helpers.investing import *\n",
    "from helpers.journal_handler import *"
   ]
  },
  {
   "cell_type": "markdown",
   "id": "2e516fd3-cbfe-4191-8d5e-acc550eb6fdd",
   "metadata": {},
   "source": [
    "# Defaults"
   ]
  },
  {
   "cell_type": "code",
   "execution_count": 3,
   "id": "0d71aee3-103a-4fab-8401-16e854207a41",
   "metadata": {},
   "outputs": [],
   "source": [
    "pd.set_option('display.max_rows', 100)\n",
    "\n",
    "\n",
    "\n",
    "In = Investing()\n",
    "\n",
    "# private_key = join(expanduser('~'),'Documents','client_secret.json')\n",
    "# JH = JournalHandler(private_key)\n",
    "\n",
    "# journal = JH.get_journal('Finance Journal')"
   ]
  },
  {
   "cell_type": "markdown",
   "id": "4d03ecd1-3830-43ef-a937-45b75b39c37e",
   "metadata": {},
   "source": [
    "# Work"
   ]
  },
  {
   "cell_type": "code",
   "execution_count": 4,
   "id": "98822989-8cf0-4939-8a95-9e6dadfa944b",
   "metadata": {},
   "outputs": [
    {
     "name": "stderr",
     "output_type": "stream",
     "text": [
      "/home/admin1/anaconda3/envs/finance/lib/python3.7/site-packages/ta/trend.py:768: RuntimeWarning: invalid value encountered in double_scalars\n",
      "  dip[i] = 100 * (self._dip[i] / self._trs[i])\n",
      "/home/admin1/anaconda3/envs/finance/lib/python3.7/site-packages/ta/trend.py:772: RuntimeWarning: invalid value encountered in double_scalars\n",
      "  din[i] = 100 * (self._din[i] / self._trs[i])\n"
     ]
    },
    {
     "data": {
      "text/html": [
       "<div>\n",
       "<style scoped>\n",
       "    .dataframe tbody tr th:only-of-type {\n",
       "        vertical-align: middle;\n",
       "    }\n",
       "\n",
       "    .dataframe tbody tr th {\n",
       "        vertical-align: top;\n",
       "    }\n",
       "\n",
       "    .dataframe thead th {\n",
       "        text-align: right;\n",
       "    }\n",
       "</style>\n",
       "<table border=\"1\" class=\"dataframe\">\n",
       "  <thead>\n",
       "    <tr style=\"text-align: right;\">\n",
       "      <th></th>\n",
       "      <th>Date</th>\n",
       "      <th>Name</th>\n",
       "      <th>LTP</th>\n",
       "      <th>Index</th>\n",
       "      <th>Over 20-SMA</th>\n",
       "      <th>Over 50-SMA</th>\n",
       "      <th>Over 100-SMA</th>\n",
       "      <th>Over 200-SMA</th>\n",
       "      <th>Overbought</th>\n",
       "      <th>Oversold</th>\n",
       "      <th>Momentum ADX</th>\n",
       "      <th>Ichi Count</th>\n",
       "      <th>1 Candle</th>\n",
       "      <th>2 Candles</th>\n",
       "      <th>3 Candles</th>\n",
       "    </tr>\n",
       "  </thead>\n",
       "  <tbody>\n",
       "    <tr>\n",
       "      <th>11</th>\n",
       "      <td>2021-08-06</td>\n",
       "      <td>DIVISLAB</td>\n",
       "      <td>4916.00</td>\n",
       "      <td>Nifty 50</td>\n",
       "      <td>True</td>\n",
       "      <td>True</td>\n",
       "      <td>True</td>\n",
       "      <td>True</td>\n",
       "      <td>False</td>\n",
       "      <td>False</td>\n",
       "      <td>47.231493</td>\n",
       "      <td>2</td>\n",
       "      <td>Unknown Red</td>\n",
       "      <td>Unknown</td>\n",
       "      <td>Unknown</td>\n",
       "    </tr>\n",
       "    <tr>\n",
       "      <th>15</th>\n",
       "      <td>2021-08-06</td>\n",
       "      <td>HCLTECH</td>\n",
       "      <td>1049.95</td>\n",
       "      <td>Nifty 50</td>\n",
       "      <td>True</td>\n",
       "      <td>True</td>\n",
       "      <td>True</td>\n",
       "      <td>True</td>\n",
       "      <td>False</td>\n",
       "      <td>False</td>\n",
       "      <td>30.879745</td>\n",
       "      <td>2</td>\n",
       "      <td>Unknown Red</td>\n",
       "      <td>Unknown</td>\n",
       "      <td>Unknown</td>\n",
       "    </tr>\n",
       "    <tr>\n",
       "      <th>19</th>\n",
       "      <td>2021-08-06</td>\n",
       "      <td>HINDALCO</td>\n",
       "      <td>442.15</td>\n",
       "      <td>Nifty 50</td>\n",
       "      <td>True</td>\n",
       "      <td>True</td>\n",
       "      <td>True</td>\n",
       "      <td>True</td>\n",
       "      <td>False</td>\n",
       "      <td>False</td>\n",
       "      <td>35.729104</td>\n",
       "      <td>2</td>\n",
       "      <td>Shooting Star</td>\n",
       "      <td>Unknown</td>\n",
       "      <td>V Pattern</td>\n",
       "    </tr>\n",
       "    <tr>\n",
       "      <th>29</th>\n",
       "      <td>2021-08-06</td>\n",
       "      <td>LT</td>\n",
       "      <td>1610.35</td>\n",
       "      <td>Nifty 50</td>\n",
       "      <td>True</td>\n",
       "      <td>True</td>\n",
       "      <td>True</td>\n",
       "      <td>True</td>\n",
       "      <td>False</td>\n",
       "      <td>False</td>\n",
       "      <td>27.365741</td>\n",
       "      <td>2</td>\n",
       "      <td>Unknown Red</td>\n",
       "      <td>Unknown</td>\n",
       "      <td>Unknown</td>\n",
       "    </tr>\n",
       "    <tr>\n",
       "      <th>44</th>\n",
       "      <td>2021-08-06</td>\n",
       "      <td>TATASTEEL</td>\n",
       "      <td>1428.85</td>\n",
       "      <td>Nifty 50</td>\n",
       "      <td>True</td>\n",
       "      <td>True</td>\n",
       "      <td>True</td>\n",
       "      <td>True</td>\n",
       "      <td>False</td>\n",
       "      <td>False</td>\n",
       "      <td>40.360750</td>\n",
       "      <td>2</td>\n",
       "      <td>Unknown Red</td>\n",
       "      <td>Unknown</td>\n",
       "      <td>Unknown</td>\n",
       "    </tr>\n",
       "    <tr>\n",
       "      <th>48</th>\n",
       "      <td>2021-08-06</td>\n",
       "      <td>ULTRACEMCO</td>\n",
       "      <td>7527.65</td>\n",
       "      <td>Nifty 50</td>\n",
       "      <td>True</td>\n",
       "      <td>True</td>\n",
       "      <td>True</td>\n",
       "      <td>True</td>\n",
       "      <td>False</td>\n",
       "      <td>False</td>\n",
       "      <td>43.697487</td>\n",
       "      <td>2</td>\n",
       "      <td>Unknown Red</td>\n",
       "      <td>Unknown</td>\n",
       "      <td>Unknown</td>\n",
       "    </tr>\n",
       "    <tr>\n",
       "      <th>49</th>\n",
       "      <td>2021-08-06</td>\n",
       "      <td>WIPRO</td>\n",
       "      <td>598.00</td>\n",
       "      <td>Nifty 50</td>\n",
       "      <td>True</td>\n",
       "      <td>True</td>\n",
       "      <td>True</td>\n",
       "      <td>True</td>\n",
       "      <td>False</td>\n",
       "      <td>False</td>\n",
       "      <td>36.898605</td>\n",
       "      <td>2</td>\n",
       "      <td>Unknown Red</td>\n",
       "      <td>Unknown</td>\n",
       "      <td>Reverse V Pattern</td>\n",
       "    </tr>\n",
       "  </tbody>\n",
       "</table>\n",
       "</div>"
      ],
      "text/plain": [
       "         Date        Name      LTP     Index  Over 20-SMA  Over 50-SMA  \\\n",
       "11 2021-08-06    DIVISLAB  4916.00  Nifty 50         True         True   \n",
       "15 2021-08-06     HCLTECH  1049.95  Nifty 50         True         True   \n",
       "19 2021-08-06    HINDALCO   442.15  Nifty 50         True         True   \n",
       "29 2021-08-06          LT  1610.35  Nifty 50         True         True   \n",
       "44 2021-08-06   TATASTEEL  1428.85  Nifty 50         True         True   \n",
       "48 2021-08-06  ULTRACEMCO  7527.65  Nifty 50         True         True   \n",
       "49 2021-08-06       WIPRO   598.00  Nifty 50         True         True   \n",
       "\n",
       "    Over 100-SMA  Over 200-SMA  Overbought  Oversold  Momentum ADX  \\\n",
       "11          True          True       False     False     47.231493   \n",
       "15          True          True       False     False     30.879745   \n",
       "19          True          True       False     False     35.729104   \n",
       "29          True          True       False     False     27.365741   \n",
       "44          True          True       False     False     40.360750   \n",
       "48          True          True       False     False     43.697487   \n",
       "49          True          True       False     False     36.898605   \n",
       "\n",
       "    Ichi Count       1 Candle 2 Candles          3 Candles  \n",
       "11           2    Unknown Red   Unknown            Unknown  \n",
       "15           2    Unknown Red   Unknown            Unknown  \n",
       "19           2  Shooting Star   Unknown          V Pattern  \n",
       "29           2    Unknown Red   Unknown            Unknown  \n",
       "44           2    Unknown Red   Unknown            Unknown  \n",
       "48           2    Unknown Red   Unknown            Unknown  \n",
       "49           2    Unknown Red   Unknown  Reverse V Pattern  "
      ]
     },
     "execution_count": 4,
     "metadata": {},
     "output_type": "execute_result"
    }
   ],
   "source": [
    "budget = 10000\n",
    "\n",
    "df = In.get_recent_info(nifty = 50, **{'mvs':[20,50,100,200]})\n",
    "df = df[(df['Overbought'] == False) & (df['Ichi Count'] > 0) & \n",
    "        (df['Over 50-SMA'] == True) & (df['Over 100-SMA'] == True) & (df['Over 200-SMA'] == True) &\n",
    "       (df['Momentum ADX'] > 25) & \n",
    "        (df['LTP'] <= budget)]\n",
    "\n",
    "df"
   ]
  },
  {
   "cell_type": "code",
   "execution_count": 18,
   "id": "bde9f3bf-08de-403a-97d6-f895f30c960f",
   "metadata": {},
   "outputs": [
    {
     "name": "stderr",
     "output_type": "stream",
     "text": [
      "/home/admin1/Desktop/ML Study/Finance/helpers/investing.py:214: UserWarning: Risk should be atleast 133.23 for you to afford IPCALAB\n",
      "  warnings.warn(f\"Risk should be atleast {r} for you to afford {name}\")\n",
      "/home/admin1/Desktop/ML Study/Finance/helpers/investing.py:214: UserWarning: Risk should be atleast 150.56 for you to afford ADANIENT\n",
      "  warnings.warn(f\"Risk should be atleast {r} for you to afford {name}\")\n",
      "/home/admin1/Desktop/ML Study/Finance/helpers/investing.py:214: UserWarning: Risk should be atleast 122.75 for you to afford EICHERMOT\n",
      "  warnings.warn(f\"Risk should be atleast {r} for you to afford {name}\")\n",
      "/home/admin1/Desktop/ML Study/Finance/helpers/investing.py:214: UserWarning: Risk should be atleast 180.6 for you to afford ALKEM\n",
      "  warnings.warn(f\"Risk should be atleast {r} for you to afford {name}\")\n"
     ]
    },
    {
     "data": {
      "text/html": [
       "<div>\n",
       "<style scoped>\n",
       "    .dataframe tbody tr th:only-of-type {\n",
       "        vertical-align: middle;\n",
       "    }\n",
       "\n",
       "    .dataframe tbody tr th {\n",
       "        vertical-align: top;\n",
       "    }\n",
       "\n",
       "    .dataframe thead th {\n",
       "        text-align: right;\n",
       "    }\n",
       "</style>\n",
       "<table border=\"1\" class=\"dataframe\">\n",
       "  <thead>\n",
       "    <tr style=\"text-align: right;\">\n",
       "      <th></th>\n",
       "      <th>DATE</th>\n",
       "      <th>OPEN</th>\n",
       "      <th>HIGH</th>\n",
       "      <th>LOW</th>\n",
       "      <th>CLOSE</th>\n",
       "      <th>52W H</th>\n",
       "      <th>52W L</th>\n",
       "      <th>SYMBOL</th>\n",
       "      <th>Diff</th>\n",
       "      <th>Rising</th>\n",
       "      <th>Ichi</th>\n",
       "      <th>RSI</th>\n",
       "      <th>ATR</th>\n",
       "      <th>Triple Candle</th>\n",
       "      <th>Double Candle</th>\n",
       "      <th>Recent Candle</th>\n",
       "      <th>Index</th>\n",
       "      <th>Expected Change %</th>\n",
       "      <th>Max Config Risk</th>\n",
       "    </tr>\n",
       "  </thead>\n",
       "  <tbody>\n",
       "    <tr>\n",
       "      <th>11</th>\n",
       "      <td>2021-08-06</td>\n",
       "      <td>1769.0</td>\n",
       "      <td>1784.7</td>\n",
       "      <td>1756.15</td>\n",
       "      <td>1777.2</td>\n",
       "      <td>2049.0</td>\n",
       "      <td>1230.6</td>\n",
       "      <td>KOTAKBANK</td>\n",
       "      <td>18.73</td>\n",
       "      <td>False</td>\n",
       "      <td>1</td>\n",
       "      <td>60.951334</td>\n",
       "      <td>40.910714</td>\n",
       "      <td>Unknown</td>\n",
       "      <td>Unknown</td>\n",
       "      <td>Unknown Green</td>\n",
       "      <td>Nifty 50</td>\n",
       "      <td>3.99</td>\n",
       "      <td>71.37</td>\n",
       "    </tr>\n",
       "  </tbody>\n",
       "</table>\n",
       "</div>"
      ],
      "text/plain": [
       "         DATE    OPEN    HIGH      LOW   CLOSE   52W H   52W L     SYMBOL  \\\n",
       "11 2021-08-06  1769.0  1784.7  1756.15  1777.2  2049.0  1230.6  KOTAKBANK   \n",
       "\n",
       "     Diff  Rising  Ichi        RSI        ATR Triple Candle Double Candle  \\\n",
       "11  18.73   False     1  60.951334  40.910714       Unknown       Unknown   \n",
       "\n",
       "    Recent Candle     Index  Expected Change %  Max Config Risk  \n",
       "11  Unknown Green  Nifty 50               3.99            71.37  "
      ]
     },
     "execution_count": 18,
     "metadata": {},
     "output_type": "execute_result"
    }
   ],
   "source": [
    "df = In.show_full_stats(10000,100, diff = 101, nifty='nifty_200')\n",
    "\n",
    "df = df[(df['Expected Change %'] <=15) & (df['RSI']<70) & (df['Ichi']>0)]\n",
    "df"
   ]
  },
  {
   "cell_type": "code",
   "execution_count": 21,
   "id": "c1a9de2b-bd22-4772-a7b0-65285fe9de41",
   "metadata": {},
   "outputs": [
    {
     "data": {
      "text/plain": [
       "'CIPLA'"
      ]
     },
     "execution_count": 21,
     "metadata": {},
     "output_type": "execute_result"
    }
   ],
   "source": [
    "random.choice(In.data['nifty_50'])"
   ]
  },
  {
   "cell_type": "code",
   "execution_count": 17,
   "id": "271063a0-649c-442e-8055-3fe0c456ee04",
   "metadata": {},
   "outputs": [
    {
     "name": "stdout",
     "output_type": "stream",
     "text": [
      "AARTIDRUGS\n",
      "BRITANNIA\n",
      "CREDITACC\n",
      "HUHTAMAKI\n",
      "MARUTI\n",
      "SPANDANA\n",
      "SUNTECK\n",
      "VSTIND\n"
     ]
    }
   ],
   "source": [
    "for name in In.data['nifty_500']:\n",
    "    df = In.open_downloaded_stock(name)\n",
    "    if In.has_golden_crossover(df,lookback=20):\n",
    "        print(name)"
   ]
  }
 ],
 "metadata": {
  "kernelspec": {
   "display_name": "Python 3 (ipykernel)",
   "language": "python",
   "name": "python3"
  },
  "language_info": {
   "codemirror_mode": {
    "name": "ipython",
    "version": 3
   },
   "file_extension": ".py",
   "mimetype": "text/x-python",
   "name": "python",
   "nbconvert_exporter": "python",
   "pygments_lexer": "ipython3",
   "version": "3.7.10"
  }
 },
 "nbformat": 4,
 "nbformat_minor": 5
}
