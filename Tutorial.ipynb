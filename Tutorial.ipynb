{
 "cells": [
  {
   "cell_type": "markdown",
   "id": "2f2150c7-61c2-4893-a8d5-ce0aa626ae3d",
   "metadata": {},
   "source": [
    "# <font color='red'>STOCK MARKET IS VERY RISKY UNTIL YOU DO IT PROPERLY. PLEASE DO NOT TAKE TRADES JUST BECAUSE THIS TOOL GIVES YOU THE NAME. APPLY YOUR OWN LEARNINGS, CREATE YOUR OWN STRATEGY, ASSESS RISK & TRADE THE PLAN.</font>"
   ]
  },
  {
   "cell_type": "code",
   "execution_count": 1,
   "id": "100e79c2",
   "metadata": {},
   "outputs": [
    {
     "data": {
      "text/plain": [
       "'065676'"
      ]
     },
     "execution_count": 1,
     "metadata": {},
     "output_type": "execute_result"
    }
   ],
   "source": [
    "'065676'"
   ]
  },
  {
   "cell_type": "markdown",
   "id": "61476ab7",
   "metadata": {},
   "source": [
    "# Imports"
   ]
  },
  {
   "cell_type": "code",
   "execution_count": 2,
   "id": "58cff050",
   "metadata": {},
   "outputs": [],
   "source": [
    "import backtrader\n",
    "from helpers.datahandler import *\n",
    "from helpers.investing import *\n",
    "from helpers.journal_handler import *\n",
    "from helpers.intraday import *\n",
    "from helpers.nse_data import *"
   ]
  },
  {
   "cell_type": "markdown",
   "id": "16a840dd",
   "metadata": {},
   "source": [
    "# Defaults"
   ]
  },
  {
   "cell_type": "code",
   "execution_count": 4,
   "id": "a6060d16",
   "metadata": {},
   "outputs": [
    {
     "name": "stdout",
     "output_type": "stream",
     "text": [
      "Checking Fresh Data.....\n"
     ]
    },
    {
     "name": "stderr",
     "output_type": "stream",
     "text": [
      "/home/admin1/Desktop/ML Study/Finance/helpers/datahandler.py:49: UserWarning: No CSV data files present at ./data Downloading new data for analysis\n",
      "  warnings.warn(f\"No CSV data files present at {self.data_path} Downloading new data for analysis\")\n"
     ]
    }
   ],
   "source": [
    "pd.set_option('display.max_rows', 100)\n",
    "pd.set_option('display.max_columns', 20)\n",
    "\n",
    "In = Investing(check_fresh = True) # Investing or Swing trading analysis\n",
    "Intra = IntraDay() # Intraday strategies and analysis\n",
    "NSE = NSEData() # Get NSE Live data\n",
    "MS = MarketSentiment() # Get Live Market Sentiment TICK, TRIN and 52W high/ low stocks"
   ]
  },
  {
   "cell_type": "markdown",
   "id": "5b7c9269-1d35-4519-b6df-e8d16d182b7f",
   "metadata": {},
   "source": [
    "# Journal\n",
    "Make a journal in Google Drive for each trade you take to analyse. It is a not so simple process and need to connect with Google API so if you're not comfortable with it, just skip it"
   ]
  },
  {
   "cell_type": "code",
   "execution_count": 3,
   "id": "f743cb7b",
   "metadata": {},
   "outputs": [
    {
     "name": "stdout",
     "output_type": "stream",
     "text": [
      "--------------------------------------------------------------------------- \n",
      "\n",
      "Trailing Stop Loss: \n",
      "\n",
      "DABUR bought on: 2021-09-01 00:00:00,\n",
      "\n",
      "--------------------------------------------------------------------------- \n",
      "\n"
     ]
    },
    {
     "name": "stderr",
     "output_type": "stream",
     "text": [
      "/home/admin1/anaconda3/envs/finance/lib/python3.7/site-packages/pandas/core/frame.py:3607: SettingWithCopyWarning: \n",
      "A value is trying to be set on a copy of a slice from a DataFrame.\n",
      "Try using .loc[row_indexer,col_indexer] = value instead\n",
      "\n",
      "See the caveats in the documentation: https://pandas.pydata.org/pandas-docs/stable/user_guide/indexing.html#returning-a-view-versus-a-copy\n",
      "  self._set_item(key, value)\n"
     ]
    },
    {
     "data": {
      "text/plain": [
       "502.65"
      ]
     },
     "execution_count": 3,
     "metadata": {},
     "output_type": "execute_result"
    }
   ],
   "source": [
    "private_key = join(expanduser('~'),'Documents','client_secret.json') # Personal for each user. Mine is stored in /home/Documents\n",
    "JH = JournalHandler(private_key)\n",
    "\n",
    "journal = JH.get_journal('Finance Journal') # My Google Sheet jornam has name \"Finance Journal\"\n",
    "\n",
    "JH.total_pl(journal) # total Profit and Loss up until now"
   ]
  },
  {
   "cell_type": "markdown",
   "id": "d500c9f5",
   "metadata": {},
   "source": [
    "# <font color='teal'>Swing Strategies </font>\n",
    "## All Details\n",
    "Basic Details about stocks such as Momentum, Ichimoku, 1-2-3 candles pattern etc"
   ]
  },
  {
   "cell_type": "code",
   "execution_count": 3,
   "id": "6b464092",
   "metadata": {},
   "outputs": [
    {
     "name": "stderr",
     "output_type": "stream",
     "text": [
      "/home/admin1/anaconda3/envs/finance/lib/python3.7/site-packages/ta/trend.py:768: RuntimeWarning: invalid value encountered in double_scalars\n",
      "  dip[i] = 100 * (self._dip[i] / self._trs[i])\n",
      "/home/admin1/anaconda3/envs/finance/lib/python3.7/site-packages/ta/trend.py:772: RuntimeWarning: invalid value encountered in double_scalars\n",
      "  din[i] = 100 * (self._din[i] / self._trs[i])\n"
     ]
    },
    {
     "data": {
      "text/html": [
       "<div>\n",
       "<style scoped>\n",
       "    .dataframe tbody tr th:only-of-type {\n",
       "        vertical-align: middle;\n",
       "    }\n",
       "\n",
       "    .dataframe tbody tr th {\n",
       "        vertical-align: top;\n",
       "    }\n",
       "\n",
       "    .dataframe thead th {\n",
       "        text-align: right;\n",
       "    }\n",
       "</style>\n",
       "<table border=\"1\" class=\"dataframe\">\n",
       "  <thead>\n",
       "    <tr style=\"text-align: right;\">\n",
       "      <th></th>\n",
       "      <th>Date</th>\n",
       "      <th>Name</th>\n",
       "      <th>LTP</th>\n",
       "      <th>Index</th>\n",
       "      <th>Over 20-SMA</th>\n",
       "      <th>Over 50-SMA</th>\n",
       "      <th>Over 100-SMA</th>\n",
       "      <th>Over 200-SMA</th>\n",
       "      <th>Overbought</th>\n",
       "      <th>Oversold</th>\n",
       "      <th>Momentum ADX</th>\n",
       "      <th>Ichi Count</th>\n",
       "      <th>1 Candle</th>\n",
       "      <th>2 Candles</th>\n",
       "      <th>3 Candles</th>\n",
       "    </tr>\n",
       "  </thead>\n",
       "  <tbody>\n",
       "    <tr>\n",
       "      <th>1</th>\n",
       "      <td>2021-09-24</td>\n",
       "      <td>ABBOTINDIA</td>\n",
       "      <td>21204.95</td>\n",
       "      <td>Nifty 100</td>\n",
       "      <td>True</td>\n",
       "      <td>True</td>\n",
       "      <td>True</td>\n",
       "      <td>True</td>\n",
       "      <td>False</td>\n",
       "      <td>False</td>\n",
       "      <td>40.207099</td>\n",
       "      <td>2</td>\n",
       "      <td>Unknown Red</td>\n",
       "      <td>Bearish Engulfing</td>\n",
       "      <td>Unknown</td>\n",
       "    </tr>\n",
       "    <tr>\n",
       "      <th>6</th>\n",
       "      <td>2021-09-24</td>\n",
       "      <td>ALKEM</td>\n",
       "      <td>4003.10</td>\n",
       "      <td>Nifty 100</td>\n",
       "      <td>True</td>\n",
       "      <td>True</td>\n",
       "      <td>True</td>\n",
       "      <td>True</td>\n",
       "      <td>False</td>\n",
       "      <td>False</td>\n",
       "      <td>34.607216</td>\n",
       "      <td>2</td>\n",
       "      <td>Unknown Green</td>\n",
       "      <td>Unknown</td>\n",
       "      <td>Unknown</td>\n",
       "    </tr>\n",
       "  </tbody>\n",
       "</table>\n",
       "</div>"
      ],
      "text/plain": [
       "        Date        Name       LTP      Index  Over 20-SMA  Over 50-SMA  \\\n",
       "1 2021-09-24  ABBOTINDIA  21204.95  Nifty 100         True         True   \n",
       "6 2021-09-24       ALKEM   4003.10  Nifty 100         True         True   \n",
       "\n",
       "   Over 100-SMA  Over 200-SMA  Overbought  Oversold  Momentum ADX  Ichi Count  \\\n",
       "1          True          True       False     False     40.207099           2   \n",
       "6          True          True       False     False     34.607216           2   \n",
       "\n",
       "        1 Candle          2 Candles 3 Candles  \n",
       "1    Unknown Red  Bearish Engulfing   Unknown  \n",
       "6  Unknown Green            Unknown   Unknown  "
      ]
     },
     "execution_count": 3,
     "metadata": {},
     "output_type": "execute_result"
    }
   ],
   "source": [
    "budget = 40000\n",
    "\n",
    "df = In.get_recent_info(nifty = 100, **{'mvs':[20,50,100,200]})\n",
    "df = df[(df['Overbought'] == False) & (df['Ichi Count'] > 0) & \n",
    "        (df['Over 50-SMA'] == True) & (df['Over 100-SMA'] == True) & (df['Over 200-SMA'] == True) &\n",
    "       (df['Momentum ADX'] > 25) & \n",
    "        (df['LTP'] <= budget)]\n",
    "\n",
    "df.head(2)"
   ]
  },
  {
   "cell_type": "markdown",
   "id": "10057a72",
   "metadata": {},
   "source": [
    "## 44-SMA \n",
    "If you find a `Green` candle taking support on 44 days `Simple Moving Average` line and stock is in uptrend, you can take the trade and set Risk to Reward ratio as 1:2"
   ]
  },
  {
   "cell_type": "code",
   "execution_count": null,
   "id": "c2b16b85",
   "metadata": {},
   "outputs": [],
   "source": [
    "budget = 40000 # Total Budget\n",
    "risk = 400 # Risk per trade\n",
    "df = In.show_full_stats(budget=budget,risk=risk, diff = 151, nifty='nifty_200') # Show only stocks undder your budget and  whose recent candle's lowest is not more than 151 rupees above the moving average line\n",
    "df = df[(df['Expected Change %'] <= 15) & (df['RSI']<70) & (df['Direction'] != 'Falling Low')]\n",
    "df"
   ]
  },
  {
   "cell_type": "markdown",
   "id": "308be2a9",
   "metadata": {},
   "source": [
    "## Golden Crossover\n",
    "When 44 days `SMA` Crosses 200 days `SMA` from below and you find a `Green` candle within 15 days taking support on `44` days line set Risk to Reward ratio as 1:5"
   ]
  },
  {
   "cell_type": "code",
   "execution_count": 7,
   "id": "1e1db0ae",
   "metadata": {},
   "outputs": [
    {
     "name": "stdout",
     "output_type": "stream",
     "text": [
      "ESCORTS\n",
      "ITC\n"
     ]
    }
   ],
   "source": [
    "for name in In.data['nifty_500']:\n",
    "    df = In.open_downloaded_stock(name)\n",
    "    if In.has_golden_crossover(df,lookback=10):\n",
    "        print(name)"
   ]
  },
  {
   "cell_type": "markdown",
   "id": "f70abf58",
   "metadata": {},
   "source": [
    "## Oversold / Overbought Stocks\n",
    "Buy when RSI is less than 30 sell when greater than 70"
   ]
  },
  {
   "cell_type": "code",
   "execution_count": 8,
   "id": "9a03fb5b",
   "metadata": {},
   "outputs": [],
   "source": [
    "for name in In.data['nifty_100']:\n",
    "    df = In.open_downloaded_stock(name)\n",
    "    if In.get_RSI(df) < 30:\n",
    "        print(name)"
   ]
  },
  {
   "cell_type": "markdown",
   "id": "25b72242-52cd-4997-a1a8-55fe576e43c7",
   "metadata": {},
   "source": [
    "## MACD Signal\n",
    "It is the strategy when MACD (Blue) Line cuts the Signal (Red) line from below then it is a buy signal. When the blue line cuts from upside down, it is sell signal"
   ]
  },
  {
   "cell_type": "code",
   "execution_count": 4,
   "id": "cd96dd40-978b-4335-b123-d80c1df991fd",
   "metadata": {},
   "outputs": [
    {
     "name": "stdout",
     "output_type": "stream",
     "text": [
      "ASIANPAINT\n",
      "BERGEPAINT\n",
      "HDFCBANK\n",
      "MRF\n"
     ]
    }
   ],
   "source": [
    "for name in In.data['nifty_100']:\n",
    "    df = In.open_downloaded_stock(name)\n",
    "    if In.macd_signal(df) == 'Buy':\n",
    "        print(name)"
   ]
  },
  {
   "cell_type": "markdown",
   "id": "f6ef13c3",
   "metadata": {},
   "source": [
    "# <font color='teal'>Intraday Strategies</font>"
   ]
  },
  {
   "cell_type": "markdown",
   "id": "69a045a1",
   "metadata": {},
   "source": [
    "## Narrow Range 7\n",
    "If recent candle's range is lowest among 6 other days then the future candle might break it's low/high"
   ]
  },
  {
   "cell_type": "code",
   "execution_count": 9,
   "id": "4c266777",
   "metadata": {},
   "outputs": [
    {
     "name": "stdout",
     "output_type": "stream",
     "text": [
      "ABBOTINDIA\n",
      "ADANIPORTS\n",
      "ASIANPAINT\n",
      "AUROPHARMA\n",
      "EICHERMOT\n",
      "GODREJCP\n",
      "HINDPETRO\n",
      "IGL\n",
      "INDUSINDBK\n",
      "NAUKRI\n",
      "INFY\n",
      "SHREECEM\n",
      "TATACONSUM\n",
      "TECHM\n",
      "UPL\n",
      "VEDL\n",
      "WIPRO\n"
     ]
    }
   ],
   "source": [
    "for name in In.data['nifty_100']:\n",
    "    if Intra.NR7_strategy(name):\n",
    "        print(name)"
   ]
  },
  {
   "cell_type": "markdown",
   "id": "eeaa8d9c",
   "metadata": {},
   "source": [
    "## Whole Number Open\n",
    "When Open == Low / High in Whole number as `xxx.00` within 15 minutes"
   ]
  },
  {
   "cell_type": "code",
   "execution_count": 9,
   "id": "cce1b693",
   "metadata": {},
   "outputs": [
    {
     "name": "stdout",
     "output_type": "stream",
     "text": [
      "Long :\n",
      "\n",
      "('HEROMOTOCO', '1.88%', 'Nifty 50') \n",
      "\n",
      "('ADANIENT', '1.56%', 'Nifty 100') \n",
      "\n",
      "('ATGL', '2.89%', 'Nifty 200') \n",
      "\n",
      "Short :\n",
      "\n",
      "('HINDUNILVR', '-1.19%', 'Nifty 50') \n",
      "\n",
      "('GLAND', '-2.0%', 'Nifty 100') \n",
      "\n",
      "('ADANIGREEN', '-2.59%', 'Nifty 100') \n",
      "\n",
      "('HAVELLS', '-1.77%', 'Nifty 100') \n",
      "\n",
      "('IGL', '-2.04%', 'Nifty 100') \n",
      "\n",
      "('POLYCAB', '-1.24%', 'Nifty 200') \n",
      "\n",
      "('AUBANK', '-1.76%', 'Nifty 200') \n",
      "\n",
      "('GLENMARK', '-1.96%', 'Nifty 200') \n",
      "\n",
      "('VOLTAS', '-2.86%', 'Nifty 200') \n",
      "\n"
     ]
    }
   ],
   "source": [
    "result = Intra.whole_number_strategy(nifty=200, min_val=101,max_val=4999)\n",
    "for key in result.keys():\n",
    "    print(key,\":\\n\")\n",
    "    for r in sorted(result[key],key=lambda x: int(x[-1].split(' ')[-1])):\n",
    "        print(r,'\\n')"
   ]
  },
  {
   "cell_type": "markdown",
   "id": "743fc849-0808-4fd8-a3b4-0ed04648e7f2",
   "metadata": {},
   "source": [
    "## `%` Change probability\n",
    "Gives the stock names which have the highest probability of providing you `x%` in intraday atleast on both long or short side based on the previous `N` days record"
   ]
  },
  {
   "cell_type": "code",
   "execution_count": 7,
   "id": "c01ce5d2-a160-4dbf-a245-472a8a319331",
   "metadata": {},
   "outputs": [
    {
     "data": {
      "text/plain": [
       "{'IDEA': {'Long Probability': 0.85, 'Short Probability': 0.77},\n",
       " 'LINDEINDIA': {'Long Probability': 0.83, 'Short Probability': 0.67},\n",
       " 'SUNTECK': {'Long Probability': 0.82, 'Short Probability': 0.65},\n",
       " 'BRIGADE': {'Long Probability': 0.78, 'Short Probability': 0.73},\n",
       " 'GUJALKALI': {'Long Probability': 0.78, 'Short Probability': 0.45},\n",
       " 'HFCL': {'Long Probability': 0.78, 'Short Probability': 0.68},\n",
       " 'IBREALEST': {'Long Probability': 0.78, 'Short Probability': 0.77},\n",
       " 'PNCINFRA': {'Long Probability': 0.78, 'Short Probability': 0.6},\n",
       " 'ADANITRANS': {'Long Probability': 0.77, 'Short Probability': 0.67},\n",
       " 'BAJAJELEC': {'Long Probability': 0.77, 'Short Probability': 0.67}}"
      ]
     },
     "execution_count": 7,
     "metadata": {},
     "output_type": "execute_result"
    }
   ],
   "source": [
    "# Gives you top 10 stocks from Nifty 500 which have the highest probability of giving atleast 0.99% on your investment based on the Long/Buy position. Data is based on past 60 trading days\n",
    "# Test it for different time duration, index, % change and Long / Short criteria based on overall market trend\n",
    "\n",
    "Intra.prob_by_percent_change(symbol = None, index = 500, time_period = 60, change_percent=0.099, sort_by='Long Probability', top_k = 10) "
   ]
  },
  {
   "cell_type": "markdown",
   "id": "e502bc0a-8779-4e10-a618-74db81bfb12a",
   "metadata": {},
   "source": [
    "# <font color='Teal'>Live Data</font>\n",
    "\n",
    "\n",
    "## Market Sentiment: TICK, TRIN (Arm's Index) & 52W high-Low touching shares\n"
   ]
  },
  {
   "cell_type": "code",
   "execution_count": 10,
   "id": "64c1868c-d6e8-4d7b-8304-7f82db5c0cdc",
   "metadata": {},
   "outputs": [
    {
     "data": {
      "text/plain": [
       "{'Latest Updated on': '27/09/2021 10:54:59',\n",
       " 'Up': 691,\n",
       " 'Down': 805,\n",
       " 'TICK': -114,\n",
       " 'Volume Up': 444.1,\n",
       " 'Volume Down': 417.42,\n",
       " 'TRIN': 0.806,\n",
       " '52W High': 54,\n",
       " '52W Low': 12}"
      ]
     },
     "execution_count": 10,
     "metadata": {},
     "output_type": "execute_result"
    }
   ],
   "source": [
    "MS.get_live_sentiment()"
   ]
  },
  {
   "cell_type": "markdown",
   "id": "c31e7948-ccba-42ca-b0ee-f10d5564d546",
   "metadata": {},
   "source": [
    "## Indices Based\n",
    "Buy or Sell stock based on which indices are performing highest in first 5 mins. Buy or sell stocks only for those indices which arevperforming the greatest"
   ]
  },
  {
   "cell_type": "code",
   "execution_count": 16,
   "id": "125e70a9-3ec5-43db-b8b6-c499403270cc",
   "metadata": {},
   "outputs": [
    {
     "data": {
      "text/html": [
       "<div>\n",
       "<style scoped>\n",
       "    .dataframe tbody tr th:only-of-type {\n",
       "        vertical-align: middle;\n",
       "    }\n",
       "\n",
       "    .dataframe tbody tr th {\n",
       "        vertical-align: top;\n",
       "    }\n",
       "\n",
       "    .dataframe thead th {\n",
       "        text-align: right;\n",
       "    }\n",
       "</style>\n",
       "<table border=\"1\" class=\"dataframe\">\n",
       "  <thead>\n",
       "    <tr style=\"text-align: right;\">\n",
       "      <th></th>\n",
       "      <th>index</th>\n",
       "      <th>percentChange</th>\n",
       "      <th>key</th>\n",
       "      <th>variation</th>\n",
       "    </tr>\n",
       "  </thead>\n",
       "  <tbody>\n",
       "    <tr>\n",
       "      <th>8</th>\n",
       "      <td>INDIA VIX</td>\n",
       "      <td>4.15</td>\n",
       "      <td>BROAD MARKET INDICES</td>\n",
       "      <td>0.70</td>\n",
       "    </tr>\n",
       "    <tr>\n",
       "      <th>20</th>\n",
       "      <td>NIFTY IT</td>\n",
       "      <td>-2.44</td>\n",
       "      <td>SECTORAL INDICES</td>\n",
       "      <td>-906.90</td>\n",
       "    </tr>\n",
       "    <tr>\n",
       "      <th>26</th>\n",
       "      <td>NIFTY REALTY</td>\n",
       "      <td>1.69</td>\n",
       "      <td>SECTORAL INDICES</td>\n",
       "      <td>8.45</td>\n",
       "    </tr>\n",
       "    <tr>\n",
       "      <th>16</th>\n",
       "      <td>NIFTY AUTO</td>\n",
       "      <td>1.69</td>\n",
       "      <td>SECTORAL INDICES</td>\n",
       "      <td>176.10</td>\n",
       "    </tr>\n",
       "    <tr>\n",
       "      <th>27</th>\n",
       "      <td>NIFTY HEALTHCARE INDEX</td>\n",
       "      <td>-1.53</td>\n",
       "      <td>SECTORAL INDICES</td>\n",
       "      <td>-137.35</td>\n",
       "    </tr>\n",
       "    <tr>\n",
       "      <th>43</th>\n",
       "      <td>NIFTY200 QUALITY 30</td>\n",
       "      <td>-1.23</td>\n",
       "      <td>STRATEGY INDICES</td>\n",
       "      <td>-190.75</td>\n",
       "    </tr>\n",
       "    <tr>\n",
       "      <th>23</th>\n",
       "      <td>NIFTY PHARMA</td>\n",
       "      <td>-1.23</td>\n",
       "      <td>SECTORAL INDICES</td>\n",
       "      <td>-176.25</td>\n",
       "    </tr>\n",
       "    <tr>\n",
       "      <th>44</th>\n",
       "      <td>NIFTY ALPHA LOW-VOLATILITY 30</td>\n",
       "      <td>-1.23</td>\n",
       "      <td>STRATEGY INDICES</td>\n",
       "      <td>-223.85</td>\n",
       "    </tr>\n",
       "    <tr>\n",
       "      <th>24</th>\n",
       "      <td>NIFTY PSU BANK</td>\n",
       "      <td>1.21</td>\n",
       "      <td>SECTORAL INDICES</td>\n",
       "      <td>28.50</td>\n",
       "    </tr>\n",
       "    <tr>\n",
       "      <th>39</th>\n",
       "      <td>NIFTY ALPHA 50</td>\n",
       "      <td>-1.02</td>\n",
       "      <td>STRATEGY INDICES</td>\n",
       "      <td>-323.95</td>\n",
       "    </tr>\n",
       "  </tbody>\n",
       "</table>\n",
       "</div>"
      ],
      "text/plain": [
       "                            index  percentChange                   key  \\\n",
       "8                       INDIA VIX           4.15  BROAD MARKET INDICES   \n",
       "20                       NIFTY IT          -2.44      SECTORAL INDICES   \n",
       "26                   NIFTY REALTY           1.69      SECTORAL INDICES   \n",
       "16                     NIFTY AUTO           1.69      SECTORAL INDICES   \n",
       "27         NIFTY HEALTHCARE INDEX          -1.53      SECTORAL INDICES   \n",
       "43            NIFTY200 QUALITY 30          -1.23      STRATEGY INDICES   \n",
       "23                   NIFTY PHARMA          -1.23      SECTORAL INDICES   \n",
       "44  NIFTY ALPHA LOW-VOLATILITY 30          -1.23      STRATEGY INDICES   \n",
       "24                 NIFTY PSU BANK           1.21      SECTORAL INDICES   \n",
       "39                 NIFTY ALPHA 50          -1.02      STRATEGY INDICES   \n",
       "\n",
       "    variation  \n",
       "8        0.70  \n",
       "20    -906.90  \n",
       "26       8.45  \n",
       "16     176.10  \n",
       "27    -137.35  \n",
       "43    -190.75  \n",
       "23    -176.25  \n",
       "44    -223.85  \n",
       "24      28.50  \n",
       "39    -323.95  "
      ]
     },
     "execution_count": 16,
     "metadata": {},
     "output_type": "execute_result"
    }
   ],
   "source": [
    "NSE.current_indices_status(10) # Live as of market is open. works post market also"
   ]
  },
  {
   "cell_type": "code",
   "execution_count": 15,
   "id": "6f068251-f34e-467c-9a69-54a73d998afb",
   "metadata": {},
   "outputs": [
    {
     "data": {
      "text/html": [
       "<div>\n",
       "<style scoped>\n",
       "    .dataframe tbody tr th:only-of-type {\n",
       "        vertical-align: middle;\n",
       "    }\n",
       "\n",
       "    .dataframe tbody tr th {\n",
       "        vertical-align: top;\n",
       "    }\n",
       "\n",
       "    .dataframe thead th {\n",
       "        text-align: right;\n",
       "    }\n",
       "</style>\n",
       "<table border=\"1\" class=\"dataframe\">\n",
       "  <thead>\n",
       "    <tr style=\"text-align: right;\">\n",
       "      <th></th>\n",
       "      <th>symbol</th>\n",
       "      <th>pChange</th>\n",
       "      <th>open</th>\n",
       "      <th>dayHigh</th>\n",
       "      <th>dayLow</th>\n",
       "      <th>lastPrice</th>\n",
       "      <th>Index</th>\n",
       "    </tr>\n",
       "  </thead>\n",
       "  <tbody>\n",
       "    <tr>\n",
       "      <th>10</th>\n",
       "      <td>COFORGE</td>\n",
       "      <td>-4.78</td>\n",
       "      <td>5690.00</td>\n",
       "      <td>5695.10</td>\n",
       "      <td>5330.20</td>\n",
       "      <td>5378.85</td>\n",
       "      <td>Nifty 200</td>\n",
       "    </tr>\n",
       "    <tr>\n",
       "      <th>9</th>\n",
       "      <td>MPHASIS</td>\n",
       "      <td>-4.10</td>\n",
       "      <td>3399.95</td>\n",
       "      <td>3399.95</td>\n",
       "      <td>3190.50</td>\n",
       "      <td>3205.45</td>\n",
       "      <td>Nifty 200</td>\n",
       "    </tr>\n",
       "    <tr>\n",
       "      <th>8</th>\n",
       "      <td>MINDTREE</td>\n",
       "      <td>-4.07</td>\n",
       "      <td>4640.00</td>\n",
       "      <td>4641.80</td>\n",
       "      <td>4380.00</td>\n",
       "      <td>4413.95</td>\n",
       "      <td>Nifty 200</td>\n",
       "    </tr>\n",
       "    <tr>\n",
       "      <th>7</th>\n",
       "      <td>LTI</td>\n",
       "      <td>-3.71</td>\n",
       "      <td>6300.00</td>\n",
       "      <td>6368.40</td>\n",
       "      <td>5930.00</td>\n",
       "      <td>6000.00</td>\n",
       "      <td>Nifty 100</td>\n",
       "    </tr>\n",
       "    <tr>\n",
       "      <th>6</th>\n",
       "      <td>TECHM</td>\n",
       "      <td>-3.15</td>\n",
       "      <td>1523.00</td>\n",
       "      <td>1525.00</td>\n",
       "      <td>1459.20</td>\n",
       "      <td>1467.00</td>\n",
       "      <td>Nifty 50</td>\n",
       "    </tr>\n",
       "    <tr>\n",
       "      <th>5</th>\n",
       "      <td>WIPRO</td>\n",
       "      <td>-2.95</td>\n",
       "      <td>678.05</td>\n",
       "      <td>678.35</td>\n",
       "      <td>651.00</td>\n",
       "      <td>656.55</td>\n",
       "      <td>Nifty 50</td>\n",
       "    </tr>\n",
       "    <tr>\n",
       "      <th>4</th>\n",
       "      <td>HCLTECH</td>\n",
       "      <td>-2.68</td>\n",
       "      <td>1366.00</td>\n",
       "      <td>1367.95</td>\n",
       "      <td>1314.25</td>\n",
       "      <td>1321.85</td>\n",
       "      <td>Nifty 50</td>\n",
       "    </tr>\n",
       "    <tr>\n",
       "      <th>0</th>\n",
       "      <td>NIFTY IT</td>\n",
       "      <td>-2.41</td>\n",
       "      <td>37335.90</td>\n",
       "      <td>37345.05</td>\n",
       "      <td>35986.20</td>\n",
       "      <td>36208.15</td>\n",
       "      <td>Other</td>\n",
       "    </tr>\n",
       "    <tr>\n",
       "      <th>3</th>\n",
       "      <td>OFSS</td>\n",
       "      <td>-2.37</td>\n",
       "      <td>4714.95</td>\n",
       "      <td>4739.90</td>\n",
       "      <td>4549.10</td>\n",
       "      <td>4598.90</td>\n",
       "      <td>Nifty 500</td>\n",
       "    </tr>\n",
       "    <tr>\n",
       "      <th>2</th>\n",
       "      <td>INFY</td>\n",
       "      <td>-1.70</td>\n",
       "      <td>1768.75</td>\n",
       "      <td>1769.00</td>\n",
       "      <td>1721.35</td>\n",
       "      <td>1733.95</td>\n",
       "      <td>Nifty 50</td>\n",
       "    </tr>\n",
       "  </tbody>\n",
       "</table>\n",
       "</div>"
      ],
      "text/plain": [
       "      symbol  pChange      open   dayHigh    dayLow  lastPrice      Index\n",
       "10   COFORGE    -4.78   5690.00   5695.10   5330.20    5378.85  Nifty 200\n",
       "9    MPHASIS    -4.10   3399.95   3399.95   3190.50    3205.45  Nifty 200\n",
       "8   MINDTREE    -4.07   4640.00   4641.80   4380.00    4413.95  Nifty 200\n",
       "7        LTI    -3.71   6300.00   6368.40   5930.00    6000.00  Nifty 100\n",
       "6      TECHM    -3.15   1523.00   1525.00   1459.20    1467.00   Nifty 50\n",
       "5      WIPRO    -2.95    678.05    678.35    651.00     656.55   Nifty 50\n",
       "4    HCLTECH    -2.68   1366.00   1367.95   1314.25    1321.85   Nifty 50\n",
       "0   NIFTY IT    -2.41  37335.90  37345.05  35986.20   36208.15      Other\n",
       "3       OFSS    -2.37   4714.95   4739.90   4549.10    4598.90  Nifty 500\n",
       "2       INFY    -1.70   1768.75   1769.00   1721.35    1733.95   Nifty 50"
      ]
     },
     "execution_count": 15,
     "metadata": {},
     "output_type": "execute_result"
    }
   ],
   "source": [
    "NSE.open_nse_index('NIFTY IT')"
   ]
  },
  {
   "cell_type": "markdown",
   "id": "cd48ff6f",
   "metadata": {},
   "source": [
    "# <font color='teal'>Risk Management</font>"
   ]
  },
  {
   "cell_type": "code",
   "execution_count": 5,
   "id": "a0db2597",
   "metadata": {},
   "outputs": [
    {
     "data": {
      "text/plain": [
       "{'Buying Price': 368.5,\n",
       " 'Stop-Loss %': 13.43,\n",
       " 'Target %': 26.85,\n",
       " 'Quantity': 8.0,\n",
       " 'Stop-Loss Price': 319,\n",
       " 'Trigger Price': 467.45,\n",
       " 'Risk Per Share': 49.5,\n",
       " 'Profit Per Share': 98.95,\n",
       " 'Max loss on this config': 396.0,\n",
       " 'Max Gain on this config': 791.6,\n",
       " 'Price To Profit Ratio': 3.72,\n",
       " 'Index': 'Other'}"
      ]
     },
     "execution_count": 5,
     "metadata": {},
     "output_type": "execute_result"
    }
   ],
   "source": [
    "# You have a total budget of 40K, and a risk apetite of rs 400 per trade\n",
    "# You can set manual such as # entry = 3980.1, stop_loss=3780.5\n",
    "\n",
    "In.get_particulars('NIITLTD',40000,400,entry = 368.5, stop_loss=319)"
   ]
  },
  {
   "cell_type": "code",
   "execution_count": null,
   "id": "50c79e39-a0df-4266-88f0-4f325e1dcb69",
   "metadata": {},
   "outputs": [],
   "source": []
  }
 ],
 "metadata": {
  "interpreter": {
   "hash": "534e9bab96a16873bd5818160023b2fa3dafead0b053853c8e30f386908077f9"
  },
  "kernelspec": {
   "display_name": "Python 3 (ipykernel)",
   "language": "python",
   "name": "python3"
  },
  "language_info": {
   "codemirror_mode": {
    "name": "ipython",
    "version": 3
   },
   "file_extension": ".py",
   "mimetype": "text/x-python",
   "name": "python",
   "nbconvert_exporter": "python",
   "pygments_lexer": "ipython3",
   "version": "3.7.10"
  }
 },
 "nbformat": 4,
 "nbformat_minor": 5
}
