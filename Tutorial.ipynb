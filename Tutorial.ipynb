{
 "cells": [
  {
   "cell_type": "markdown",
   "id": "2f2150c7-61c2-4893-a8d5-ce0aa626ae3d",
   "metadata": {},
   "source": [
    "# <font color='red'>STOCK MARKET IS VERY RISKY UNTIL YOU DO IT PROPERLY. PLEASE DO NOT TAKE TRADES JUST BECAUSE THIS TOOL GIVES YOU THE NAME. APPLY YOUR OWN LEARNINGS, CREATE YOUR OWN STRATEGY, ASSESS RISK & TRADE THE PLAN.</font>"
   ]
  },
  {
   "cell_type": "code",
   "execution_count": 1,
   "id": "100e79c2",
   "metadata": {},
   "outputs": [
    {
     "data": {
      "text/plain": [
       "'065676'"
      ]
     },
     "execution_count": 1,
     "metadata": {},
     "output_type": "execute_result"
    }
   ],
   "source": [
    "'065676'"
   ]
  },
  {
   "cell_type": "markdown",
   "id": "61476ab7",
   "metadata": {},
   "source": [
    "# Imports"
   ]
  },
  {
   "cell_type": "code",
   "execution_count": 1,
   "id": "58cff050",
   "metadata": {},
   "outputs": [],
   "source": [
    "# import backtrader\n",
    "from helpers.datahandler import *\n",
    "from helpers.investing import *\n",
    "from helpers.journal_handler import *\n",
    "from helpers.intraday import *\n",
    "from helpers.nse_data import *\n",
    "from helpers.backtest import *"
   ]
  },
  {
   "cell_type": "markdown",
   "id": "16a840dd",
   "metadata": {},
   "source": [
    "# Defaults"
   ]
  },
  {
   "cell_type": "code",
   "execution_count": 2,
   "id": "a6060d16",
   "metadata": {},
   "outputs": [
    {
     "name": "stdout",
     "output_type": "stream",
     "text": [
      "Checking Fresh Data.....\n"
     ]
    }
   ],
   "source": [
    "pd.set_option('display.max_rows', 100)\n",
    "pd.set_option('display.max_columns', 25)\n",
    "\n",
    "In = Investing(check_fresh = True) # Investing or Swing trading analysis\n",
    "Intra = IntraDay() # Intraday strategies and analysis\n",
    "NSE = NSEData() # Get NSE Live data\n",
    "MS = MarketSentiment() # Get Live Market Sentiment TICK, TRIN and 52W high/ low stocks\n",
    "BT = Backtest()"
   ]
  },
  {
   "cell_type": "markdown",
   "id": "5b7c9269-1d35-4519-b6df-e8d16d182b7f",
   "metadata": {},
   "source": [
    "# Journal\n",
    "Make a journal in Google Drive for each trade you take to analyse. It is a not so simple process and need to connect with Google API so if you're not comfortable with it, just skip it"
   ]
  },
  {
   "cell_type": "code",
   "execution_count": 3,
   "id": "f743cb7b",
   "metadata": {},
   "outputs": [
    {
     "name": "stdout",
     "output_type": "stream",
     "text": [
      "--------------------------------------------------------------------------- \n",
      "\n",
      "--------------------------------------------------------------------------- \n",
      "\n"
     ]
    },
    {
     "name": "stderr",
     "output_type": "stream",
     "text": [
      "/home/admin1/anaconda3/envs/finance/lib/python3.7/site-packages/pandas/core/frame.py:3607: SettingWithCopyWarning: \n",
      "A value is trying to be set on a copy of a slice from a DataFrame.\n",
      "Try using .loc[row_indexer,col_indexer] = value instead\n",
      "\n",
      "See the caveats in the documentation: https://pandas.pydata.org/pandas-docs/stable/user_guide/indexing.html#returning-a-view-versus-a-copy\n",
      "  self._set_item(key, value)\n"
     ]
    },
    {
     "data": {
      "text/plain": [
       "502.65"
      ]
     },
     "execution_count": 3,
     "metadata": {},
     "output_type": "execute_result"
    }
   ],
   "source": [
    "private_key = join(expanduser('~'),'Documents','client_secret.json') # Personal for each user. Mine is stored in /home/Documents\n",
    "JH = JournalHandler(private_key)\n",
    "\n",
    "journal = JH.get_journal('Finance Journal') # My Google Sheet jornam has name \"Finance Journal\"\n",
    "\n",
    "JH.total_pl(journal) # total Profit and Loss up until now"
   ]
  },
  {
   "cell_type": "markdown",
   "id": "d500c9f5",
   "metadata": {},
   "source": [
    "# <font color='teal'>Swing Strategies </font>\n",
    "## All Details\n",
    "Basic Details about stocks such as Momentum, Ichimoku, 1-2-3 candles pattern etc"
   ]
  },
  {
   "cell_type": "code",
   "execution_count": 5,
   "id": "6b464092",
   "metadata": {},
   "outputs": [
    {
     "data": {
      "text/html": [
       "<div>\n",
       "<style scoped>\n",
       "    .dataframe tbody tr th:only-of-type {\n",
       "        vertical-align: middle;\n",
       "    }\n",
       "\n",
       "    .dataframe tbody tr th {\n",
       "        vertical-align: top;\n",
       "    }\n",
       "\n",
       "    .dataframe thead th {\n",
       "        text-align: right;\n",
       "    }\n",
       "</style>\n",
       "<table border=\"1\" class=\"dataframe\">\n",
       "  <thead>\n",
       "    <tr style=\"text-align: right;\">\n",
       "      <th></th>\n",
       "      <th>Date</th>\n",
       "      <th>Name</th>\n",
       "      <th>LTP</th>\n",
       "      <th>Index</th>\n",
       "      <th>CCI Signal</th>\n",
       "      <th>RSI Signal</th>\n",
       "      <th>MACD Signal</th>\n",
       "      <th>Over 20-SMA</th>\n",
       "      <th>Over 50-SMA</th>\n",
       "      <th>Over 100-SMA</th>\n",
       "      <th>Over 200-SMA</th>\n",
       "      <th>Momentum ADX</th>\n",
       "      <th>Ichi Count</th>\n",
       "      <th>1 Candle</th>\n",
       "      <th>2 Candles</th>\n",
       "      <th>3 Candles</th>\n",
       "    </tr>\n",
       "  </thead>\n",
       "  <tbody>\n",
       "    <tr>\n",
       "      <th>0</th>\n",
       "      <td>2021-09-28</td>\n",
       "      <td>ACC</td>\n",
       "      <td>2300.25</td>\n",
       "      <td>Nifty 100</td>\n",
       "      <td>No Signal</td>\n",
       "      <td>No Signal</td>\n",
       "      <td>No Signal</td>\n",
       "      <td>False</td>\n",
       "      <td>False</td>\n",
       "      <td>True</td>\n",
       "      <td>True</td>\n",
       "      <td>23.932572</td>\n",
       "      <td>0</td>\n",
       "      <td>Unknown Red</td>\n",
       "      <td>Bearish Engulfing</td>\n",
       "      <td>Unknown</td>\n",
       "    </tr>\n",
       "    <tr>\n",
       "      <th>1</th>\n",
       "      <td>2021-09-28</td>\n",
       "      <td>ABBOTINDIA</td>\n",
       "      <td>21010.80</td>\n",
       "      <td>Nifty 100</td>\n",
       "      <td>No Signal</td>\n",
       "      <td>No Signal</td>\n",
       "      <td>No Signal</td>\n",
       "      <td>True</td>\n",
       "      <td>True</td>\n",
       "      <td>True</td>\n",
       "      <td>True</td>\n",
       "      <td>37.354380</td>\n",
       "      <td>2</td>\n",
       "      <td>Unknown Red</td>\n",
       "      <td>Unknown</td>\n",
       "      <td>Unknown</td>\n",
       "    </tr>\n",
       "  </tbody>\n",
       "</table>\n",
       "</div>"
      ],
      "text/plain": [
       "        Date        Name       LTP      Index CCI Signal RSI Signal  \\\n",
       "0 2021-09-28         ACC   2300.25  Nifty 100  No Signal  No Signal   \n",
       "1 2021-09-28  ABBOTINDIA  21010.80  Nifty 100  No Signal  No Signal   \n",
       "\n",
       "  MACD Signal  Over 20-SMA  Over 50-SMA  Over 100-SMA  Over 200-SMA  \\\n",
       "0   No Signal        False        False          True          True   \n",
       "1   No Signal         True         True          True          True   \n",
       "\n",
       "   Momentum ADX  Ichi Count     1 Candle          2 Candles 3 Candles  \n",
       "0     23.932572           0  Unknown Red  Bearish Engulfing   Unknown  \n",
       "1     37.354380           2  Unknown Red            Unknown   Unknown  "
      ]
     },
     "execution_count": 5,
     "metadata": {},
     "output_type": "execute_result"
    }
   ],
   "source": [
    "budget = 40000\n",
    "\n",
    "df = In.get_recent_info(nifty = 100, **{'mvs':[20,50,100,200]})\n",
    "df.head(2)"
   ]
  },
  {
   "cell_type": "markdown",
   "id": "10057a72",
   "metadata": {},
   "source": [
    "## 44-SMA \n",
    "If you find a `Green` candle taking support on 44 days `Simple Moving Average` line and stock is in uptrend, you can take the trade and set Risk to Reward ratio as 1:2"
   ]
  },
  {
   "cell_type": "code",
   "execution_count": 8,
   "id": "c2b16b85",
   "metadata": {},
   "outputs": [
    {
     "data": {
      "text/html": [
       "<div>\n",
       "<style scoped>\n",
       "    .dataframe tbody tr th:only-of-type {\n",
       "        vertical-align: middle;\n",
       "    }\n",
       "\n",
       "    .dataframe tbody tr th {\n",
       "        vertical-align: top;\n",
       "    }\n",
       "\n",
       "    .dataframe thead th {\n",
       "        text-align: right;\n",
       "    }\n",
       "</style>\n",
       "<table border=\"1\" class=\"dataframe\">\n",
       "  <thead>\n",
       "    <tr style=\"text-align: right;\">\n",
       "      <th></th>\n",
       "      <th>DATE</th>\n",
       "      <th>OPEN</th>\n",
       "      <th>HIGH</th>\n",
       "      <th>LOW</th>\n",
       "      <th>CLOSE</th>\n",
       "      <th>52W H</th>\n",
       "      <th>52W L</th>\n",
       "      <th>SYMBOL</th>\n",
       "      <th>Diff</th>\n",
       "      <th>CCI Value</th>\n",
       "      <th>MACD Signal</th>\n",
       "      <th>Direction</th>\n",
       "      <th>Ichi</th>\n",
       "      <th>RSI</th>\n",
       "      <th>ATR</th>\n",
       "      <th>Triple Candle</th>\n",
       "      <th>Double Candle</th>\n",
       "      <th>Recent Candle</th>\n",
       "      <th>Index</th>\n",
       "      <th>Expected Change %</th>\n",
       "      <th>Max Config Risk</th>\n",
       "    </tr>\n",
       "  </thead>\n",
       "  <tbody>\n",
       "    <tr>\n",
       "      <th>5</th>\n",
       "      <td>2021-09-28</td>\n",
       "      <td>176.85</td>\n",
       "      <td>188.90</td>\n",
       "      <td>176.10</td>\n",
       "      <td>183.95</td>\n",
       "      <td>251.50</td>\n",
       "      <td>154.60</td>\n",
       "      <td>POWERGRID</td>\n",
       "      <td>1.88</td>\n",
       "      <td>249.25</td>\n",
       "      <td>No Signal</td>\n",
       "      <td>Undeterministic</td>\n",
       "      <td>1</td>\n",
       "      <td>58.856333</td>\n",
       "      <td>3.632143</td>\n",
       "      <td>V Pattern</td>\n",
       "      <td>Unknown</td>\n",
       "      <td>Unknown Green</td>\n",
       "      <td>Nifty 50</td>\n",
       "      <td>14.97</td>\n",
       "      <td>396.59</td>\n",
       "    </tr>\n",
       "    <tr>\n",
       "      <th>1</th>\n",
       "      <td>2021-09-28</td>\n",
       "      <td>766.70</td>\n",
       "      <td>791.00</td>\n",
       "      <td>754.95</td>\n",
       "      <td>775.10</td>\n",
       "      <td>804.35</td>\n",
       "      <td>452.25</td>\n",
       "      <td>SUNPHARMA</td>\n",
       "      <td>3.29</td>\n",
       "      <td>-29.85</td>\n",
       "      <td>No Signal</td>\n",
       "      <td>Rising High</td>\n",
       "      <td>0</td>\n",
       "      <td>53.204741</td>\n",
       "      <td>14.775000</td>\n",
       "      <td>Unknown</td>\n",
       "      <td>Unknown</td>\n",
       "      <td>Green Doji</td>\n",
       "      <td>Nifty 50</td>\n",
       "      <td>9.49</td>\n",
       "      <td>375.96</td>\n",
       "    </tr>\n",
       "    <tr>\n",
       "      <th>0</th>\n",
       "      <td>2021-09-28</td>\n",
       "      <td>4809.90</td>\n",
       "      <td>4854.10</td>\n",
       "      <td>4755.10</td>\n",
       "      <td>4833.15</td>\n",
       "      <td>5614.60</td>\n",
       "      <td>4135.00</td>\n",
       "      <td>DRREDDY</td>\n",
       "      <td>9.68</td>\n",
       "      <td>-46.99</td>\n",
       "      <td>No Signal</td>\n",
       "      <td>Undeterministic</td>\n",
       "      <td>1</td>\n",
       "      <td>49.714603</td>\n",
       "      <td>80.307143</td>\n",
       "      <td>V Pattern</td>\n",
       "      <td>Unknown</td>\n",
       "      <td>Unknown Green</td>\n",
       "      <td>Nifty 50</td>\n",
       "      <td>5.38</td>\n",
       "      <td>392.06</td>\n",
       "    </tr>\n",
       "    <tr>\n",
       "      <th>6</th>\n",
       "      <td>2021-09-28</td>\n",
       "      <td>722.00</td>\n",
       "      <td>733.35</td>\n",
       "      <td>721.50</td>\n",
       "      <td>725.80</td>\n",
       "      <td>775.65</td>\n",
       "      <td>555.95</td>\n",
       "      <td>HDFCLIFE</td>\n",
       "      <td>19.29</td>\n",
       "      <td>-67.37</td>\n",
       "      <td>No Signal</td>\n",
       "      <td>Undeterministic</td>\n",
       "      <td>1</td>\n",
       "      <td>52.361920</td>\n",
       "      <td>13.535714</td>\n",
       "      <td>V Pattern</td>\n",
       "      <td>Unknown</td>\n",
       "      <td>Unknown Green</td>\n",
       "      <td>Nifty 50</td>\n",
       "      <td>4.49</td>\n",
       "      <td>396.04</td>\n",
       "    </tr>\n",
       "    <tr>\n",
       "      <th>7</th>\n",
       "      <td>2021-09-28</td>\n",
       "      <td>960.50</td>\n",
       "      <td>977.00</td>\n",
       "      <td>950.80</td>\n",
       "      <td>971.00</td>\n",
       "      <td>997.00</td>\n",
       "      <td>706.50</td>\n",
       "      <td>CIPLA</td>\n",
       "      <td>20.25</td>\n",
       "      <td>124.04</td>\n",
       "      <td>No Signal</td>\n",
       "      <td>Rising High</td>\n",
       "      <td>1</td>\n",
       "      <td>61.424214</td>\n",
       "      <td>17.639286</td>\n",
       "      <td>Unknown</td>\n",
       "      <td>Bullish Engulfing</td>\n",
       "      <td>Unknown Green</td>\n",
       "      <td>Nifty 50</td>\n",
       "      <td>5.75</td>\n",
       "      <td>393.79</td>\n",
       "    </tr>\n",
       "  </tbody>\n",
       "</table>\n",
       "</div>"
      ],
      "text/plain": [
       "        DATE     OPEN     HIGH      LOW    CLOSE    52W H    52W L     SYMBOL  \\\n",
       "5 2021-09-28   176.85   188.90   176.10   183.95   251.50   154.60  POWERGRID   \n",
       "1 2021-09-28   766.70   791.00   754.95   775.10   804.35   452.25  SUNPHARMA   \n",
       "0 2021-09-28  4809.90  4854.10  4755.10  4833.15  5614.60  4135.00    DRREDDY   \n",
       "6 2021-09-28   722.00   733.35   721.50   725.80   775.65   555.95   HDFCLIFE   \n",
       "7 2021-09-28   960.50   977.00   950.80   971.00   997.00   706.50      CIPLA   \n",
       "\n",
       "    Diff  CCI Value MACD Signal        Direction  Ichi        RSI        ATR  \\\n",
       "5   1.88     249.25   No Signal  Undeterministic     1  58.856333   3.632143   \n",
       "1   3.29     -29.85   No Signal      Rising High     0  53.204741  14.775000   \n",
       "0   9.68     -46.99   No Signal  Undeterministic     1  49.714603  80.307143   \n",
       "6  19.29     -67.37   No Signal  Undeterministic     1  52.361920  13.535714   \n",
       "7  20.25     124.04   No Signal      Rising High     1  61.424214  17.639286   \n",
       "\n",
       "  Triple Candle      Double Candle  Recent Candle     Index  \\\n",
       "5     V Pattern            Unknown  Unknown Green  Nifty 50   \n",
       "1       Unknown            Unknown     Green Doji  Nifty 50   \n",
       "0     V Pattern            Unknown  Unknown Green  Nifty 50   \n",
       "6     V Pattern            Unknown  Unknown Green  Nifty 50   \n",
       "7       Unknown  Bullish Engulfing  Unknown Green  Nifty 50   \n",
       "\n",
       "   Expected Change %  Max Config Risk  \n",
       "5              14.97           396.59  \n",
       "1               9.49           375.96  \n",
       "0               5.38           392.06  \n",
       "6               4.49           396.04  \n",
       "7               5.75           393.79  "
      ]
     },
     "execution_count": 8,
     "metadata": {},
     "output_type": "execute_result"
    }
   ],
   "source": [
    "budget = 40000 # Total Budget\n",
    "risk = 400 # Risk per trade\n",
    "df = In.show_full_stats(budget=budget,risk=risk, diff = 151, nifty='nifty_50') # Show only stocks undder your budget and  whose recent candle's lowest is not more than 151 rupees above the moving average line\n",
    "df = df[(df['Expected Change %'] <= 15) & (df['RSI']<70) & (df['Direction'] != 'Falling Low')]\n",
    "df"
   ]
  },
  {
   "cell_type": "markdown",
   "id": "308be2a9",
   "metadata": {},
   "source": [
    "## Golden Crossover\n",
    "When 44 days `SMA` Crosses 200 days `SMA` from below and you find a `Green` candle within 15 days taking support on `44` days line set Risk to Reward ratio as 1:5"
   ]
  },
  {
   "cell_type": "code",
   "execution_count": 7,
   "id": "1e1db0ae",
   "metadata": {},
   "outputs": [
    {
     "name": "stdout",
     "output_type": "stream",
     "text": [
      "ESCORTS\n",
      "ITC\n"
     ]
    }
   ],
   "source": [
    "for name in In.data['nifty_500']:\n",
    "    df = In.open_downloaded_stock(name)\n",
    "    if In.has_golden_crossover(df,lookback=10):\n",
    "        print(name)"
   ]
  },
  {
   "cell_type": "markdown",
   "id": "f70abf58",
   "metadata": {},
   "source": [
    "## Oversold / Overbought Stocks\n",
    "Buy when RSI is less than 30 sell when greater than 70"
   ]
  },
  {
   "cell_type": "code",
   "execution_count": 8,
   "id": "9a03fb5b",
   "metadata": {},
   "outputs": [],
   "source": [
    "for name in In.data['nifty_100']:\n",
    "    df = In.open_downloaded_stock(name)\n",
    "    if In.get_RSI(df) < 30:\n",
    "        print(name)"
   ]
  },
  {
   "cell_type": "markdown",
   "id": "25b72242-52cd-4997-a1a8-55fe576e43c7",
   "metadata": {},
   "source": [
    "## MACD Signal\n",
    "It is the strategy when MACD (Blue) Line cuts the Signal (Red) line from below then it is a buy signal. When the blue line cuts from upside down, it is sell signal"
   ]
  },
  {
   "cell_type": "code",
   "execution_count": 7,
   "id": "cd96dd40-978b-4335-b123-d80c1df991fd",
   "metadata": {},
   "outputs": [
    {
     "name": "stdout",
     "output_type": "stream",
     "text": [
      "AJANTPHARM\n",
      "BEL\n",
      "CANBK\n",
      "UNIONBANK\n",
      "VGUARD\n"
     ]
    }
   ],
   "source": [
    "for name in In.data['nifty_200']:\n",
    "    df = In.open_downloaded_stock(name)\n",
    "    if In.macd_signal(df) == 'Buy':\n",
    "        print(name)"
   ]
  },
  {
   "cell_type": "markdown",
   "id": "7dcf4c1f-60e7-4409-be30-33f12ae29592",
   "metadata": {},
   "source": [
    "## CCI Signal\n",
    "**Faster than MACD Signal works closely with Stochastic RSI**\n",
    "\n",
    "When CCI values comes from below  -100 to above -100, buy signal and when it comes from above +100 to below +100, sell signal"
   ]
  },
  {
   "cell_type": "code",
   "execution_count": 9,
   "id": "cd84b9c5-74ed-4ded-9643-30114bd37913",
   "metadata": {},
   "outputs": [
    {
     "name": "stdout",
     "output_type": "stream",
     "text": [
      "DHANI\n",
      "GODREJCP\n",
      "HAL\n",
      "JINDALSTEL\n",
      "LUPIN\n",
      "NMDC\n",
      "SAIL\n"
     ]
    }
   ],
   "source": [
    "for name in In.data['nifty_200']:\n",
    "    df = In.open_downloaded_stock(name)\n",
    "    if In.get_CCI(df, signal_only = True) == 'Buy':\n",
    "        print(name)"
   ]
  },
  {
   "cell_type": "markdown",
   "id": "f6ef13c3",
   "metadata": {},
   "source": [
    "# <font color='teal'>Intraday Strategies</font>"
   ]
  },
  {
   "cell_type": "markdown",
   "id": "69a045a1",
   "metadata": {},
   "source": [
    "## Narrow Range 7\n",
    "If recent candle's range is lowest among 6 other days then the future candle might break it's low/high"
   ]
  },
  {
   "cell_type": "code",
   "execution_count": 9,
   "id": "4c266777",
   "metadata": {},
   "outputs": [
    {
     "name": "stdout",
     "output_type": "stream",
     "text": [
      "ABBOTINDIA\n",
      "ADANIPORTS\n",
      "ASIANPAINT\n",
      "AUROPHARMA\n",
      "EICHERMOT\n",
      "GODREJCP\n",
      "HINDPETRO\n",
      "IGL\n",
      "INDUSINDBK\n",
      "NAUKRI\n",
      "INFY\n",
      "SHREECEM\n",
      "TATACONSUM\n",
      "TECHM\n",
      "UPL\n",
      "VEDL\n",
      "WIPRO\n"
     ]
    }
   ],
   "source": [
    "for name in In.data['nifty_100']:\n",
    "    if Intra.NR7_strategy(name):\n",
    "        print(name)"
   ]
  },
  {
   "cell_type": "markdown",
   "id": "eeaa8d9c",
   "metadata": {},
   "source": [
    "## Whole Number Open\n",
    "When Open == Low / High in Whole number as `xxx.00` within 15 minutes"
   ]
  },
  {
   "cell_type": "code",
   "execution_count": 9,
   "id": "cce1b693",
   "metadata": {},
   "outputs": [
    {
     "name": "stdout",
     "output_type": "stream",
     "text": [
      "Long :\n",
      "\n",
      "('HEROMOTOCO', '1.88%', 'Nifty 50') \n",
      "\n",
      "('ADANIENT', '1.56%', 'Nifty 100') \n",
      "\n",
      "('ATGL', '2.89%', 'Nifty 200') \n",
      "\n",
      "Short :\n",
      "\n",
      "('HINDUNILVR', '-1.19%', 'Nifty 50') \n",
      "\n",
      "('GLAND', '-2.0%', 'Nifty 100') \n",
      "\n",
      "('ADANIGREEN', '-2.59%', 'Nifty 100') \n",
      "\n",
      "('HAVELLS', '-1.77%', 'Nifty 100') \n",
      "\n",
      "('IGL', '-2.04%', 'Nifty 100') \n",
      "\n",
      "('POLYCAB', '-1.24%', 'Nifty 200') \n",
      "\n",
      "('AUBANK', '-1.76%', 'Nifty 200') \n",
      "\n",
      "('GLENMARK', '-1.96%', 'Nifty 200') \n",
      "\n",
      "('VOLTAS', '-2.86%', 'Nifty 200') \n",
      "\n"
     ]
    }
   ],
   "source": [
    "result = Intra.whole_number_strategy(nifty=200, min_val=101,max_val=4999)\n",
    "for key in result.keys():\n",
    "    print(key,\":\\n\")\n",
    "    for r in sorted(result[key],key=lambda x: int(x[-1].split(' ')[-1])):\n",
    "        print(r,'\\n')"
   ]
  },
  {
   "cell_type": "markdown",
   "id": "743fc849-0808-4fd8-a3b4-0ed04648e7f2",
   "metadata": {},
   "source": [
    "## `%` Change probability\n",
    "Gives the stock names which have the highest probability of providing you `x%` in intraday atleast on both long or short side based on the previous `N` days record"
   ]
  },
  {
   "cell_type": "code",
   "execution_count": 7,
   "id": "c01ce5d2-a160-4dbf-a245-472a8a319331",
   "metadata": {},
   "outputs": [
    {
     "data": {
      "text/plain": [
       "{'IDEA': {'Long Probability': 0.85, 'Short Probability': 0.77},\n",
       " 'LINDEINDIA': {'Long Probability': 0.83, 'Short Probability': 0.67},\n",
       " 'SUNTECK': {'Long Probability': 0.82, 'Short Probability': 0.65},\n",
       " 'BRIGADE': {'Long Probability': 0.78, 'Short Probability': 0.73},\n",
       " 'GUJALKALI': {'Long Probability': 0.78, 'Short Probability': 0.45},\n",
       " 'HFCL': {'Long Probability': 0.78, 'Short Probability': 0.68},\n",
       " 'IBREALEST': {'Long Probability': 0.78, 'Short Probability': 0.77},\n",
       " 'PNCINFRA': {'Long Probability': 0.78, 'Short Probability': 0.6},\n",
       " 'ADANITRANS': {'Long Probability': 0.77, 'Short Probability': 0.67},\n",
       " 'BAJAJELEC': {'Long Probability': 0.77, 'Short Probability': 0.67}}"
      ]
     },
     "execution_count": 7,
     "metadata": {},
     "output_type": "execute_result"
    }
   ],
   "source": [
    "# Gives you top 10 stocks from Nifty 500 which have the highest probability of giving atleast 0.99% on your investment based on the Long/Buy position. Data is based on past 60 trading days\n",
    "# Test it for different time duration, index, % change and Long / Short criteria based on overall market trend\n",
    "\n",
    "Intra.prob_by_percent_change(symbol = None, index = 500, time_period = 60, change_percent=0.099, sort_by='Long Probability', top_k = 10) "
   ]
  },
  {
   "cell_type": "markdown",
   "id": "e502bc0a-8779-4e10-a618-74db81bfb12a",
   "metadata": {},
   "source": [
    "# <font color='Teal'>Live Data</font>\n",
    "\n",
    "\n",
    "## Market Sentiment: TICK, TRIN (Arm's Index) & 52W high-Low touching shares\n"
   ]
  },
  {
   "cell_type": "code",
   "execution_count": 10,
   "id": "64c1868c-d6e8-4d7b-8304-7f82db5c0cdc",
   "metadata": {},
   "outputs": [
    {
     "data": {
      "text/plain": [
       "{'Latest Updated on': '27/09/2021 10:54:59',\n",
       " 'Up': 691,\n",
       " 'Down': 805,\n",
       " 'TICK': -114,\n",
       " 'Volume Up': 444.1,\n",
       " 'Volume Down': 417.42,\n",
       " 'TRIN': 0.806,\n",
       " '52W High': 54,\n",
       " '52W Low': 12}"
      ]
     },
     "execution_count": 10,
     "metadata": {},
     "output_type": "execute_result"
    }
   ],
   "source": [
    "MS.get_live_sentiment()"
   ]
  },
  {
   "cell_type": "markdown",
   "id": "c31e7948-ccba-42ca-b0ee-f10d5564d546",
   "metadata": {},
   "source": [
    "## Indices Based\n",
    "Buy or Sell stock based on which indices are performing highest in first 5 mins. Buy or sell stocks only for those indices which arevperforming the greatest"
   ]
  },
  {
   "cell_type": "code",
   "execution_count": 16,
   "id": "125e70a9-3ec5-43db-b8b6-c499403270cc",
   "metadata": {},
   "outputs": [
    {
     "data": {
      "text/html": [
       "<div>\n",
       "<style scoped>\n",
       "    .dataframe tbody tr th:only-of-type {\n",
       "        vertical-align: middle;\n",
       "    }\n",
       "\n",
       "    .dataframe tbody tr th {\n",
       "        vertical-align: top;\n",
       "    }\n",
       "\n",
       "    .dataframe thead th {\n",
       "        text-align: right;\n",
       "    }\n",
       "</style>\n",
       "<table border=\"1\" class=\"dataframe\">\n",
       "  <thead>\n",
       "    <tr style=\"text-align: right;\">\n",
       "      <th></th>\n",
       "      <th>index</th>\n",
       "      <th>percentChange</th>\n",
       "      <th>key</th>\n",
       "      <th>variation</th>\n",
       "    </tr>\n",
       "  </thead>\n",
       "  <tbody>\n",
       "    <tr>\n",
       "      <th>8</th>\n",
       "      <td>INDIA VIX</td>\n",
       "      <td>4.15</td>\n",
       "      <td>BROAD MARKET INDICES</td>\n",
       "      <td>0.70</td>\n",
       "    </tr>\n",
       "    <tr>\n",
       "      <th>20</th>\n",
       "      <td>NIFTY IT</td>\n",
       "      <td>-2.44</td>\n",
       "      <td>SECTORAL INDICES</td>\n",
       "      <td>-906.90</td>\n",
       "    </tr>\n",
       "    <tr>\n",
       "      <th>26</th>\n",
       "      <td>NIFTY REALTY</td>\n",
       "      <td>1.69</td>\n",
       "      <td>SECTORAL INDICES</td>\n",
       "      <td>8.45</td>\n",
       "    </tr>\n",
       "    <tr>\n",
       "      <th>16</th>\n",
       "      <td>NIFTY AUTO</td>\n",
       "      <td>1.69</td>\n",
       "      <td>SECTORAL INDICES</td>\n",
       "      <td>176.10</td>\n",
       "    </tr>\n",
       "    <tr>\n",
       "      <th>27</th>\n",
       "      <td>NIFTY HEALTHCARE INDEX</td>\n",
       "      <td>-1.53</td>\n",
       "      <td>SECTORAL INDICES</td>\n",
       "      <td>-137.35</td>\n",
       "    </tr>\n",
       "    <tr>\n",
       "      <th>43</th>\n",
       "      <td>NIFTY200 QUALITY 30</td>\n",
       "      <td>-1.23</td>\n",
       "      <td>STRATEGY INDICES</td>\n",
       "      <td>-190.75</td>\n",
       "    </tr>\n",
       "    <tr>\n",
       "      <th>23</th>\n",
       "      <td>NIFTY PHARMA</td>\n",
       "      <td>-1.23</td>\n",
       "      <td>SECTORAL INDICES</td>\n",
       "      <td>-176.25</td>\n",
       "    </tr>\n",
       "    <tr>\n",
       "      <th>44</th>\n",
       "      <td>NIFTY ALPHA LOW-VOLATILITY 30</td>\n",
       "      <td>-1.23</td>\n",
       "      <td>STRATEGY INDICES</td>\n",
       "      <td>-223.85</td>\n",
       "    </tr>\n",
       "    <tr>\n",
       "      <th>24</th>\n",
       "      <td>NIFTY PSU BANK</td>\n",
       "      <td>1.21</td>\n",
       "      <td>SECTORAL INDICES</td>\n",
       "      <td>28.50</td>\n",
       "    </tr>\n",
       "    <tr>\n",
       "      <th>39</th>\n",
       "      <td>NIFTY ALPHA 50</td>\n",
       "      <td>-1.02</td>\n",
       "      <td>STRATEGY INDICES</td>\n",
       "      <td>-323.95</td>\n",
       "    </tr>\n",
       "  </tbody>\n",
       "</table>\n",
       "</div>"
      ],
      "text/plain": [
       "                            index  percentChange                   key  \\\n",
       "8                       INDIA VIX           4.15  BROAD MARKET INDICES   \n",
       "20                       NIFTY IT          -2.44      SECTORAL INDICES   \n",
       "26                   NIFTY REALTY           1.69      SECTORAL INDICES   \n",
       "16                     NIFTY AUTO           1.69      SECTORAL INDICES   \n",
       "27         NIFTY HEALTHCARE INDEX          -1.53      SECTORAL INDICES   \n",
       "43            NIFTY200 QUALITY 30          -1.23      STRATEGY INDICES   \n",
       "23                   NIFTY PHARMA          -1.23      SECTORAL INDICES   \n",
       "44  NIFTY ALPHA LOW-VOLATILITY 30          -1.23      STRATEGY INDICES   \n",
       "24                 NIFTY PSU BANK           1.21      SECTORAL INDICES   \n",
       "39                 NIFTY ALPHA 50          -1.02      STRATEGY INDICES   \n",
       "\n",
       "    variation  \n",
       "8        0.70  \n",
       "20    -906.90  \n",
       "26       8.45  \n",
       "16     176.10  \n",
       "27    -137.35  \n",
       "43    -190.75  \n",
       "23    -176.25  \n",
       "44    -223.85  \n",
       "24      28.50  \n",
       "39    -323.95  "
      ]
     },
     "execution_count": 16,
     "metadata": {},
     "output_type": "execute_result"
    }
   ],
   "source": [
    "NSE.current_indices_status(10) # Live as of market is open. works post market also"
   ]
  },
  {
   "cell_type": "code",
   "execution_count": 15,
   "id": "6f068251-f34e-467c-9a69-54a73d998afb",
   "metadata": {},
   "outputs": [
    {
     "data": {
      "text/html": [
       "<div>\n",
       "<style scoped>\n",
       "    .dataframe tbody tr th:only-of-type {\n",
       "        vertical-align: middle;\n",
       "    }\n",
       "\n",
       "    .dataframe tbody tr th {\n",
       "        vertical-align: top;\n",
       "    }\n",
       "\n",
       "    .dataframe thead th {\n",
       "        text-align: right;\n",
       "    }\n",
       "</style>\n",
       "<table border=\"1\" class=\"dataframe\">\n",
       "  <thead>\n",
       "    <tr style=\"text-align: right;\">\n",
       "      <th></th>\n",
       "      <th>symbol</th>\n",
       "      <th>pChange</th>\n",
       "      <th>open</th>\n",
       "      <th>dayHigh</th>\n",
       "      <th>dayLow</th>\n",
       "      <th>lastPrice</th>\n",
       "      <th>Index</th>\n",
       "    </tr>\n",
       "  </thead>\n",
       "  <tbody>\n",
       "    <tr>\n",
       "      <th>10</th>\n",
       "      <td>COFORGE</td>\n",
       "      <td>-4.78</td>\n",
       "      <td>5690.00</td>\n",
       "      <td>5695.10</td>\n",
       "      <td>5330.20</td>\n",
       "      <td>5378.85</td>\n",
       "      <td>Nifty 200</td>\n",
       "    </tr>\n",
       "    <tr>\n",
       "      <th>9</th>\n",
       "      <td>MPHASIS</td>\n",
       "      <td>-4.10</td>\n",
       "      <td>3399.95</td>\n",
       "      <td>3399.95</td>\n",
       "      <td>3190.50</td>\n",
       "      <td>3205.45</td>\n",
       "      <td>Nifty 200</td>\n",
       "    </tr>\n",
       "    <tr>\n",
       "      <th>8</th>\n",
       "      <td>MINDTREE</td>\n",
       "      <td>-4.07</td>\n",
       "      <td>4640.00</td>\n",
       "      <td>4641.80</td>\n",
       "      <td>4380.00</td>\n",
       "      <td>4413.95</td>\n",
       "      <td>Nifty 200</td>\n",
       "    </tr>\n",
       "    <tr>\n",
       "      <th>7</th>\n",
       "      <td>LTI</td>\n",
       "      <td>-3.71</td>\n",
       "      <td>6300.00</td>\n",
       "      <td>6368.40</td>\n",
       "      <td>5930.00</td>\n",
       "      <td>6000.00</td>\n",
       "      <td>Nifty 100</td>\n",
       "    </tr>\n",
       "    <tr>\n",
       "      <th>6</th>\n",
       "      <td>TECHM</td>\n",
       "      <td>-3.15</td>\n",
       "      <td>1523.00</td>\n",
       "      <td>1525.00</td>\n",
       "      <td>1459.20</td>\n",
       "      <td>1467.00</td>\n",
       "      <td>Nifty 50</td>\n",
       "    </tr>\n",
       "    <tr>\n",
       "      <th>5</th>\n",
       "      <td>WIPRO</td>\n",
       "      <td>-2.95</td>\n",
       "      <td>678.05</td>\n",
       "      <td>678.35</td>\n",
       "      <td>651.00</td>\n",
       "      <td>656.55</td>\n",
       "      <td>Nifty 50</td>\n",
       "    </tr>\n",
       "    <tr>\n",
       "      <th>4</th>\n",
       "      <td>HCLTECH</td>\n",
       "      <td>-2.68</td>\n",
       "      <td>1366.00</td>\n",
       "      <td>1367.95</td>\n",
       "      <td>1314.25</td>\n",
       "      <td>1321.85</td>\n",
       "      <td>Nifty 50</td>\n",
       "    </tr>\n",
       "    <tr>\n",
       "      <th>0</th>\n",
       "      <td>NIFTY IT</td>\n",
       "      <td>-2.41</td>\n",
       "      <td>37335.90</td>\n",
       "      <td>37345.05</td>\n",
       "      <td>35986.20</td>\n",
       "      <td>36208.15</td>\n",
       "      <td>Other</td>\n",
       "    </tr>\n",
       "    <tr>\n",
       "      <th>3</th>\n",
       "      <td>OFSS</td>\n",
       "      <td>-2.37</td>\n",
       "      <td>4714.95</td>\n",
       "      <td>4739.90</td>\n",
       "      <td>4549.10</td>\n",
       "      <td>4598.90</td>\n",
       "      <td>Nifty 500</td>\n",
       "    </tr>\n",
       "    <tr>\n",
       "      <th>2</th>\n",
       "      <td>INFY</td>\n",
       "      <td>-1.70</td>\n",
       "      <td>1768.75</td>\n",
       "      <td>1769.00</td>\n",
       "      <td>1721.35</td>\n",
       "      <td>1733.95</td>\n",
       "      <td>Nifty 50</td>\n",
       "    </tr>\n",
       "  </tbody>\n",
       "</table>\n",
       "</div>"
      ],
      "text/plain": [
       "      symbol  pChange      open   dayHigh    dayLow  lastPrice      Index\n",
       "10   COFORGE    -4.78   5690.00   5695.10   5330.20    5378.85  Nifty 200\n",
       "9    MPHASIS    -4.10   3399.95   3399.95   3190.50    3205.45  Nifty 200\n",
       "8   MINDTREE    -4.07   4640.00   4641.80   4380.00    4413.95  Nifty 200\n",
       "7        LTI    -3.71   6300.00   6368.40   5930.00    6000.00  Nifty 100\n",
       "6      TECHM    -3.15   1523.00   1525.00   1459.20    1467.00   Nifty 50\n",
       "5      WIPRO    -2.95    678.05    678.35    651.00     656.55   Nifty 50\n",
       "4    HCLTECH    -2.68   1366.00   1367.95   1314.25    1321.85   Nifty 50\n",
       "0   NIFTY IT    -2.41  37335.90  37345.05  35986.20   36208.15      Other\n",
       "3       OFSS    -2.37   4714.95   4739.90   4549.10    4598.90  Nifty 500\n",
       "2       INFY    -1.70   1768.75   1769.00   1721.35    1733.95   Nifty 50"
      ]
     },
     "execution_count": 15,
     "metadata": {},
     "output_type": "execute_result"
    }
   ],
   "source": [
    "NSE.open_nse_index('NIFTY IT')"
   ]
  },
  {
   "cell_type": "markdown",
   "id": "9a1dcfa2-7547-4c23-b7f7-30fbda2672c6",
   "metadata": {},
   "source": [
    "# <font color='teal'>Back Testing</font>\n",
    "## MACD "
   ]
  },
  {
   "cell_type": "code",
   "execution_count": 4,
   "id": "f8fe2012-b011-4c90-b7f4-34bc7ec55b8e",
   "metadata": {},
   "outputs": [
    {
     "data": {
      "text/plain": [
       "{'DIXON': {'days': 407, 'account': 7070.95, 'buys': 14, 'sells': 13},\n",
       " 'SHREECEM': {'days': 407, 'account': 6566.55, 'buys': 17, 'sells': 17},\n",
       " 'TASTYBITE': {'days': 407, 'account': 4544.5, 'buys': 14, 'sells': 14},\n",
       " 'BAJFINANCE': {'days': 407, 'account': 3445.9, 'buys': 13, 'sells': 13},\n",
       " 'ABBOTINDIA': {'days': 407, 'account': 2919.4, 'buys': 17, 'sells': 17},\n",
       " 'SRF': {'days': 407, 'account': 2755.3, 'buys': 16, 'sells': 16},\n",
       " 'BALAMINES': {'days': 407, 'account': 2397.45, 'buys': 15, 'sells': 15},\n",
       " 'INDIAMART': {'days': 407, 'account': 2210.2, 'buys': 15, 'sells': 15},\n",
       " 'DIVISLAB': {'days': 407, 'account': 2181.95, 'buys': 13, 'sells': 13},\n",
       " 'LUXIND': {'days': 407, 'account': 1986.1, 'buys': 10, 'sells': 10}}"
      ]
     },
     "execution_count": 4,
     "metadata": {},
     "output_type": "execute_result"
    }
   ],
   "source": [
    "BT.MACD(min_days = 365, nifty = 'nifty_500') # Return top gaining stocks which have traded atleast 365 recent days and are currently in nifty-500"
   ]
  },
  {
   "cell_type": "markdown",
   "id": "6413db2a-996b-46c8-8a74-8394f70f1026",
   "metadata": {},
   "source": [
    "## RSI"
   ]
  },
  {
   "cell_type": "code",
   "execution_count": 3,
   "id": "73205de4-8677-406e-bd26-515d65505bd5",
   "metadata": {},
   "outputs": [
    {
     "data": {
      "text/plain": [
       "{'TASTYBITE': {'days': 407, 'account': 5583.85, 'buys': 2, 'sells': 2},\n",
       " 'SHREECEM': {'days': 407, 'account': 5009.6, 'buys': 2, 'sells': 2},\n",
       " 'NESTLEIND': {'days': 407, 'account': 3755.25, 'buys': 1, 'sells': 1},\n",
       " 'MARUTI': {'days': 407, 'account': 2780.55, 'buys': 4, 'sells': 4},\n",
       " 'BOSCHLTD': {'days': 407, 'account': 2438.0, 'buys': 2, 'sells': 2},\n",
       " 'ABBOTINDIA': {'days': 407, 'account': 2350.35, 'buys': 2, 'sells': 2},\n",
       " 'LAXMIMACH': {'days': 407, 'account': 1726.35, 'buys': 2, 'sells': 2},\n",
       " 'ALKYLAMINE': {'days': 407, 'account': 1611.6, 'buys': 2, 'sells': 2},\n",
       " 'BAJFINANCE': {'days': 407, 'account': 1548.85, 'buys': 3, 'sells': 3},\n",
       " 'PFIZER': {'days': 407, 'account': 1399.0, 'buys': 2, 'sells': 2}}"
      ]
     },
     "execution_count": 3,
     "metadata": {},
     "output_type": "execute_result"
    }
   ],
   "source": [
    "BT.RSI(buying_thresh = 30, selling_thresh = 70, min_days = 365, nifty = 'nifty_500') # Give best stocks if they had been bought at 30- RSI and Sold at 70+ andhave traded atleast 365 days"
   ]
  },
  {
   "cell_type": "markdown",
   "id": "3432da60-de0f-416e-85d9-cd3aba3d14b8",
   "metadata": {},
   "source": [
    "## CCI"
   ]
  },
  {
   "cell_type": "code",
   "execution_count": 3,
   "id": "68eb77e3-a728-490e-9f03-80e4bf1d6010",
   "metadata": {},
   "outputs": [
    {
     "data": {
      "text/plain": [
       "{'SHREECEM': {'days': 407, 'account': 16251.7, 'buys': 11, 'sells': 11},\n",
       " 'PAGEIND': {'days': 407, 'account': 13720.45, 'buys': 10, 'sells': 10},\n",
       " 'TASTYBITE': {'days': 407, 'account': 8471.0, 'buys': 9, 'sells': 9},\n",
       " 'HONAUT': {'days': 407, 'account': 7694.45, 'buys': 7, 'sells': 7},\n",
       " 'BAJAJFINSV': {'days': 407, 'account': 3713.1, 'buys': 6, 'sells': 6},\n",
       " 'PGHH': {'days': 407, 'account': 3320.35, 'buys': 7, 'sells': 7},\n",
       " 'TTKPRESTIG': {'days': 407, 'account': 3082.4, 'buys': 9, 'sells': 9},\n",
       " 'ABBOTINDIA': {'days': 407, 'account': 2558.85, 'buys': 5, 'sells': 5},\n",
       " 'DRREDDY': {'days': 407, 'account': 2297.75, 'buys': 7, 'sells': 7},\n",
       " 'DIVISLAB': {'days': 407, 'account': 2174.45, 'buys': 5, 'sells': 5}}"
      ]
     },
     "execution_count": 3,
     "metadata": {},
     "output_type": "execute_result"
    }
   ],
   "source": [
    "BT.CCI(buying_thresh = -100, selling_thresh = 100, min_days = 365, nifty = 'nifty_500')"
   ]
  },
  {
   "cell_type": "markdown",
   "id": "cd48ff6f",
   "metadata": {},
   "source": [
    "# <font color='teal'>Risk Management</font>"
   ]
  },
  {
   "cell_type": "code",
   "execution_count": 5,
   "id": "a0db2597",
   "metadata": {},
   "outputs": [
    {
     "data": {
      "text/plain": [
       "{'Buying Price': 368.5,\n",
       " 'Stop-Loss %': 13.43,\n",
       " 'Target %': 26.85,\n",
       " 'Quantity': 8.0,\n",
       " 'Stop-Loss Price': 319,\n",
       " 'Trigger Price': 467.45,\n",
       " 'Risk Per Share': 49.5,\n",
       " 'Profit Per Share': 98.95,\n",
       " 'Max loss on this config': 396.0,\n",
       " 'Max Gain on this config': 791.6,\n",
       " 'Price To Profit Ratio': 3.72,\n",
       " 'Index': 'Other'}"
      ]
     },
     "execution_count": 5,
     "metadata": {},
     "output_type": "execute_result"
    }
   ],
   "source": [
    "# You have a total budget of 40K, and a risk apetite of rs 400 per trade\n",
    "# You can set manual such as # entry = 3980.1, stop_loss=3780.5\n",
    "\n",
    "In.get_particulars('NIITLTD',40000,400,entry = 368.5, stop_loss=319)"
   ]
  }
 ],
 "metadata": {
  "interpreter": {
   "hash": "534e9bab96a16873bd5818160023b2fa3dafead0b053853c8e30f386908077f9"
  },
  "kernelspec": {
   "display_name": "Python 3 (ipykernel)",
   "language": "python",
   "name": "python3"
  },
  "language_info": {
   "codemirror_mode": {
    "name": "ipython",
    "version": 3
   },
   "file_extension": ".py",
   "mimetype": "text/x-python",
   "name": "python",
   "nbconvert_exporter": "python",
   "pygments_lexer": "ipython3",
   "version": "3.7.10"
  }
 },
 "nbformat": 4,
 "nbformat_minor": 5
}
