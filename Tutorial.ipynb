{
 "cells": [
  {
   "cell_type": "markdown",
   "id": "1af7b86a",
   "metadata": {},
   "source": [
    "# <font color='red'>STOCK MARKET IS VERY RISKY UNTIL YOU DO IT PROPERLY. PLEASE DO NOT TAKE TRADES JUST BECAUSE THIS TOOL GIVES YOU THE NAME. APPLY YOUR OWN LEARNINGS, CREATE YOUR OWN STRATEGY, ASSESS RISK & TRADE THE PLAN.</font>"
   ]
  },
  {
   "cell_type": "code",
   "execution_count": 1,
   "id": "d899f1ab",
   "metadata": {},
   "outputs": [
    {
     "data": {
      "text/plain": [
       "'065676'"
      ]
     },
     "execution_count": 1,
     "metadata": {},
     "output_type": "execute_result"
    }
   ],
   "source": [
    "'065676'"
   ]
  },
  {
   "cell_type": "markdown",
   "id": "5b21da09",
   "metadata": {},
   "source": [
    "# Imports"
   ]
  },
  {
   "cell_type": "code",
   "execution_count": 1,
   "id": "81cc2eca",
   "metadata": {},
   "outputs": [],
   "source": [
    "# import backtrader\n",
    "from helpers.datahandler import *\n",
    "from helpers.investing import *\n",
    "from helpers.journal_handler import *\n",
    "from helpers.intraday import *\n",
    "from helpers.nse_data import *\n",
    "from helpers.backtest import *"
   ]
  },
  {
   "cell_type": "markdown",
   "id": "d4d37785",
   "metadata": {},
   "source": [
    "# Defaults"
   ]
  },
  {
   "cell_type": "code",
   "execution_count": 2,
   "id": "0d5cbea0",
   "metadata": {},
   "outputs": [
    {
     "name": "stdout",
     "output_type": "stream",
     "text": [
      "Checking Fresh Data.....\n"
     ]
    }
   ],
   "source": [
    "pd.set_option('display.max_rows', 100)\n",
    "pd.set_option('display.max_columns', 25)\n",
    "\n",
    "In = Investing(check_fresh = True) # Investing or Swing trading analysis\n",
    "Intra = IntraDay() # Intraday strategies and analysis\n",
    "NSE = NSEData() # Get NSE Live data\n",
    "MS = MarketSentiment() # Get Live Market Sentiment TICK, TRIN and 52W high/ low stocks\n",
    "BT = Backtest()"
   ]
  },
  {
   "cell_type": "markdown",
   "id": "bba00a5f",
   "metadata": {},
   "source": [
    "# Journal\n",
    "Make a journal in Google Drive for each trade you take to analyse. It is a not so simple process and need to connect with Google API so if you're not comfortable with it, just skip it"
   ]
  },
  {
   "cell_type": "code",
   "execution_count": 3,
   "id": "ad35ce28",
   "metadata": {},
   "outputs": [
    {
     "name": "stdout",
     "output_type": "stream",
     "text": [
      "--------------------------------------------------------------------------- \n",
      "\n",
      "--------------------------------------------------------------------------- \n",
      "\n"
     ]
    },
    {
     "name": "stderr",
     "output_type": "stream",
     "text": [
      "/home/admin1/anaconda3/envs/finance/lib/python3.7/site-packages/pandas/core/frame.py:3607: SettingWithCopyWarning: \n",
      "A value is trying to be set on a copy of a slice from a DataFrame.\n",
      "Try using .loc[row_indexer,col_indexer] = value instead\n",
      "\n",
      "See the caveats in the documentation: https://pandas.pydata.org/pandas-docs/stable/user_guide/indexing.html#returning-a-view-versus-a-copy\n",
      "  self._set_item(key, value)\n"
     ]
    },
    {
     "data": {
      "text/plain": [
       "609.05"
      ]
     },
     "execution_count": 3,
     "metadata": {},
     "output_type": "execute_result"
    }
   ],
   "source": [
    "private_key = join(expanduser('~'),'Documents','client_secret.json') # Personal for each user. Mine is stored in /home/Documents\n",
    "JH = JournalHandler(private_key)\n",
    "\n",
    "journal = JH.get_journal('Finance Journal') # My Google Sheet jornam has name \"Finance Journal\"\n",
    "\n",
    "JH.total_pl(journal) # total Profit and Loss up until now"
   ]
  },
  {
   "cell_type": "markdown",
   "id": "a98bda9b",
   "metadata": {},
   "source": [
    "# <font color='teal'>Swing Strategies </font>\n",
    "## All Details\n",
    "Basic Details about stocks such as Momentum, Ichimoku, 1-2-3 candles pattern etc"
   ]
  },
  {
   "cell_type": "code",
   "execution_count": null,
   "id": "d7847201",
   "metadata": {},
   "outputs": [
    {
     "name": "stderr",
     "output_type": "stream",
     "text": [
      "/home/admin1/anaconda3/envs/finance/lib/python3.7/site-packages/ta/trend.py:768: RuntimeWarning: invalid value encountered in double_scalars\n",
      "  dip[i] = 100 * (self._dip[i] / self._trs[i])\n",
      "/home/admin1/anaconda3/envs/finance/lib/python3.7/site-packages/ta/trend.py:772: RuntimeWarning: invalid value encountered in double_scalars\n",
      "  din[i] = 100 * (self._din[i] / self._trs[i])\n"
     ]
    },
    {
     "data": {
      "text/html": [
       "<div>\n",
       "<style scoped>\n",
       "    .dataframe tbody tr th:only-of-type {\n",
       "        vertical-align: middle;\n",
       "    }\n",
       "\n",
       "    .dataframe tbody tr th {\n",
       "        vertical-align: top;\n",
       "    }\n",
       "\n",
       "    .dataframe thead th {\n",
       "        text-align: right;\n",
       "    }\n",
       "</style>\n",
       "<table border=\"1\" class=\"dataframe\">\n",
       "  <thead>\n",
       "    <tr style=\"text-align: right;\">\n",
       "      <th></th>\n",
       "      <th>Date</th>\n",
       "      <th>Name</th>\n",
       "      <th>LTP</th>\n",
       "      <th>Index</th>\n",
       "      <th>CCI Signal</th>\n",
       "      <th>RSI Signal</th>\n",
       "      <th>MACD Signal</th>\n",
       "      <th>Over 20-SMA</th>\n",
       "      <th>Over 50-SMA</th>\n",
       "      <th>Over 100-SMA</th>\n",
       "      <th>Over 200-SMA</th>\n",
       "      <th>Momentum ADX</th>\n",
       "      <th>Ichi Count</th>\n",
       "      <th>1 Candle</th>\n",
       "      <th>2 Candles</th>\n",
       "      <th>3 Candles</th>\n",
       "    </tr>\n",
       "  </thead>\n",
       "  <tbody>\n",
       "    <tr>\n",
       "      <th>0</th>\n",
       "      <td>2021-09-28</td>\n",
       "      <td>ACC</td>\n",
       "      <td>2300.25</td>\n",
       "      <td>Nifty 100</td>\n",
       "      <td>No Signal</td>\n",
       "      <td>No Signal</td>\n",
       "      <td>No Signal</td>\n",
       "      <td>False</td>\n",
       "      <td>False</td>\n",
       "      <td>True</td>\n",
       "      <td>True</td>\n",
       "      <td>23.932572</td>\n",
       "      <td>0</td>\n",
       "      <td>Unknown Red</td>\n",
       "      <td>Bearish Engulfing</td>\n",
       "      <td>Unknown</td>\n",
       "    </tr>\n",
       "    <tr>\n",
       "      <th>1</th>\n",
       "      <td>2021-09-28</td>\n",
       "      <td>ABBOTINDIA</td>\n",
       "      <td>21010.80</td>\n",
       "      <td>Nifty 100</td>\n",
       "      <td>No Signal</td>\n",
       "      <td>No Signal</td>\n",
       "      <td>No Signal</td>\n",
       "      <td>True</td>\n",
       "      <td>True</td>\n",
       "      <td>True</td>\n",
       "      <td>True</td>\n",
       "      <td>37.354380</td>\n",
       "      <td>2</td>\n",
       "      <td>Unknown Red</td>\n",
       "      <td>Unknown</td>\n",
       "      <td>Unknown</td>\n",
       "    </tr>\n",
       "  </tbody>\n",
       "</table>\n",
       "</div>"
      ],
      "text/plain": [
       "        Date        Name       LTP      Index CCI Signal RSI Signal  \\\n",
       "0 2021-09-28         ACC   2300.25  Nifty 100  No Signal  No Signal   \n",
       "1 2021-09-28  ABBOTINDIA  21010.80  Nifty 100  No Signal  No Signal   \n",
       "\n",
       "  MACD Signal  Over 20-SMA  Over 50-SMA  Over 100-SMA  Over 200-SMA  \\\n",
       "0   No Signal        False        False          True          True   \n",
       "1   No Signal         True         True          True          True   \n",
       "\n",
       "   Momentum ADX  Ichi Count     1 Candle          2 Candles 3 Candles  \n",
       "0     23.932572           0  Unknown Red  Bearish Engulfing   Unknown  \n",
       "1     37.354380           2  Unknown Red            Unknown   Unknown  "
      ]
     },
     "execution_count": 5,
     "metadata": {},
     "output_type": "execute_result"
    }
   ],
   "source": [
    "budget = 40000\n",
    "\n",
    "df = In.get_recent_info(nifty = 100, **{'mvs':[20,50,100,200]})\n",
    "df.head(2)"
   ]
  },
  {
   "cell_type": "markdown",
   "id": "fc7785ec",
   "metadata": {},
   "source": [
    "## 44-SMA \n",
    "If you find a `Green` candle taking support on 44 days `Simple Moving Average` line and stock is in uptrend, you can take the trade and set Risk to Reward ratio as 1:2"
   ]
  },
  {
   "cell_type": "code",
   "execution_count": 7,
   "id": "e8b14a25",
   "metadata": {},
   "outputs": [
    {
     "data": {
      "text/html": [
       "<div>\n",
       "<style scoped>\n",
       "    .dataframe tbody tr th:only-of-type {\n",
       "        vertical-align: middle;\n",
       "    }\n",
       "\n",
       "    .dataframe tbody tr th {\n",
       "        vertical-align: top;\n",
       "    }\n",
       "\n",
       "    .dataframe thead th {\n",
       "        text-align: right;\n",
       "    }\n",
       "</style>\n",
       "<table border=\"1\" class=\"dataframe\">\n",
       "  <thead>\n",
       "    <tr style=\"text-align: right;\">\n",
       "      <th></th>\n",
       "      <th>DATE</th>\n",
       "      <th>OPEN</th>\n",
       "      <th>HIGH</th>\n",
       "      <th>LOW</th>\n",
       "      <th>CLOSE</th>\n",
       "      <th>52W H</th>\n",
       "      <th>52W L</th>\n",
       "      <th>SYMBOL</th>\n",
       "      <th>Diff</th>\n",
       "      <th>CCI Value</th>\n",
       "      <th>RSI Value</th>\n",
       "      <th>MACD Signal</th>\n",
       "      <th>Direction</th>\n",
       "      <th>Ichi</th>\n",
       "      <th>ATR</th>\n",
       "      <th>Triple Candle</th>\n",
       "      <th>Double Candle</th>\n",
       "      <th>Recent Candle</th>\n",
       "      <th>Index</th>\n",
       "      <th>Expected Change %</th>\n",
       "      <th>Max Config Risk</th>\n",
       "    </tr>\n",
       "  </thead>\n",
       "  <tbody>\n",
       "    <tr>\n",
       "      <th>3</th>\n",
       "      <td>2021-09-30</td>\n",
       "      <td>2729.90</td>\n",
       "      <td>2785.00</td>\n",
       "      <td>2721.20</td>\n",
       "      <td>2754.30</td>\n",
       "      <td>2896.00</td>\n",
       "      <td>1658.00</td>\n",
       "      <td>HDFC</td>\n",
       "      <td>3.20</td>\n",
       "      <td>-91.76</td>\n",
       "      <td>48.531599</td>\n",
       "      <td>No Signal</td>\n",
       "      <td>Rising High</td>\n",
       "      <td>0</td>\n",
       "      <td>60.389286</td>\n",
       "      <td>Unknown</td>\n",
       "      <td>Unknown</td>\n",
       "      <td>Unknown Green</td>\n",
       "      <td>Nifty 50</td>\n",
       "      <td>4.97</td>\n",
       "      <td>346.53</td>\n",
       "    </tr>\n",
       "    <tr>\n",
       "      <th>9</th>\n",
       "      <td>2021-09-30</td>\n",
       "      <td>1209.15</td>\n",
       "      <td>1219.00</td>\n",
       "      <td>1196.75</td>\n",
       "      <td>1215.10</td>\n",
       "      <td>1253.65</td>\n",
       "      <td>755.25</td>\n",
       "      <td>SBILIFE</td>\n",
       "      <td>24.95</td>\n",
       "      <td>16.34</td>\n",
       "      <td>59.066975</td>\n",
       "      <td>No Signal</td>\n",
       "      <td>Rising High</td>\n",
       "      <td>0</td>\n",
       "      <td>23.075000</td>\n",
       "      <td>Unknown</td>\n",
       "      <td>Unknown</td>\n",
       "      <td>Unknown Green</td>\n",
       "      <td>Nifty 50</td>\n",
       "      <td>4.04</td>\n",
       "      <td>394.65</td>\n",
       "    </tr>\n",
       "    <tr>\n",
       "      <th>0</th>\n",
       "      <td>2021-09-30</td>\n",
       "      <td>331.25</td>\n",
       "      <td>337.90</td>\n",
       "      <td>329.10</td>\n",
       "      <td>333.35</td>\n",
       "      <td>360.75</td>\n",
       "      <td>126.00</td>\n",
       "      <td>TATAMOTORS</td>\n",
       "      <td>28.27</td>\n",
       "      <td>145.60</td>\n",
       "      <td>69.366305</td>\n",
       "      <td>No Signal</td>\n",
       "      <td>Undeterministic</td>\n",
       "      <td>1</td>\n",
       "      <td>10.017857</td>\n",
       "      <td>V Pattern</td>\n",
       "      <td>Unknown</td>\n",
       "      <td>Inverted Hammer</td>\n",
       "      <td>Nifty 50</td>\n",
       "      <td>8.61</td>\n",
       "      <td>393.17</td>\n",
       "    </tr>\n",
       "    <tr>\n",
       "      <th>7</th>\n",
       "      <td>2021-09-30</td>\n",
       "      <td>1368.00</td>\n",
       "      <td>1382.55</td>\n",
       "      <td>1361.30</td>\n",
       "      <td>1373.10</td>\n",
       "      <td>1482.70</td>\n",
       "      <td>659.50</td>\n",
       "      <td>HAVELLS</td>\n",
       "      <td>41.55</td>\n",
       "      <td>-137.31</td>\n",
       "      <td>50.818110</td>\n",
       "      <td>No Signal</td>\n",
       "      <td>Undeterministic</td>\n",
       "      <td>0</td>\n",
       "      <td>35.228571</td>\n",
       "      <td>V Pattern</td>\n",
       "      <td>Unknown</td>\n",
       "      <td>Green Doji</td>\n",
       "      <td>Nifty 100</td>\n",
       "      <td>4.95</td>\n",
       "      <td>377.12</td>\n",
       "    </tr>\n",
       "    <tr>\n",
       "      <th>14</th>\n",
       "      <td>2021-09-30</td>\n",
       "      <td>1586.00</td>\n",
       "      <td>1606.35</td>\n",
       "      <td>1583.10</td>\n",
       "      <td>1594.95</td>\n",
       "      <td>1641.00</td>\n",
       "      <td>1042.65</td>\n",
       "      <td>HDFCBANK</td>\n",
       "      <td>44.26</td>\n",
       "      <td>82.78</td>\n",
       "      <td>57.739030</td>\n",
       "      <td>No Signal</td>\n",
       "      <td>Rising High</td>\n",
       "      <td>0</td>\n",
       "      <td>30.357143</td>\n",
       "      <td>Unknown</td>\n",
       "      <td>Unknown</td>\n",
       "      <td>Unknown Green</td>\n",
       "      <td>Nifty 50</td>\n",
       "      <td>3.29</td>\n",
       "      <td>396.59</td>\n",
       "    </tr>\n",
       "    <tr>\n",
       "      <th>1</th>\n",
       "      <td>2021-09-30</td>\n",
       "      <td>1559.00</td>\n",
       "      <td>1610.00</td>\n",
       "      <td>1553.70</td>\n",
       "      <td>1571.50</td>\n",
       "      <td>1686.00</td>\n",
       "      <td>897.00</td>\n",
       "      <td>UBL</td>\n",
       "      <td>47.83</td>\n",
       "      <td>-48.59</td>\n",
       "      <td>53.136471</td>\n",
       "      <td>No Signal</td>\n",
       "      <td>Rising High</td>\n",
       "      <td>0</td>\n",
       "      <td>53.500000</td>\n",
       "      <td>Unknown</td>\n",
       "      <td>Unknown</td>\n",
       "      <td>Inverted Hammer</td>\n",
       "      <td>Nifty 100</td>\n",
       "      <td>9.03</td>\n",
       "      <td>364.00</td>\n",
       "    </tr>\n",
       "    <tr>\n",
       "      <th>4</th>\n",
       "      <td>2021-09-30</td>\n",
       "      <td>2685.30</td>\n",
       "      <td>2705.30</td>\n",
       "      <td>2681.95</td>\n",
       "      <td>2701.80</td>\n",
       "      <td>2859.30</td>\n",
       "      <td>2024.75</td>\n",
       "      <td>HINDUNILVR</td>\n",
       "      <td>64.60</td>\n",
       "      <td>-178.53</td>\n",
       "      <td>49.573337</td>\n",
       "      <td>No Signal</td>\n",
       "      <td>Undeterministic</td>\n",
       "      <td>0</td>\n",
       "      <td>56.082143</td>\n",
       "      <td>Unknown</td>\n",
       "      <td>Unknown</td>\n",
       "      <td>Unknown Green</td>\n",
       "      <td>Nifty 50</td>\n",
       "      <td>2.49</td>\n",
       "      <td>370.51</td>\n",
       "    </tr>\n",
       "    <tr>\n",
       "      <th>6</th>\n",
       "      <td>2021-09-30</td>\n",
       "      <td>19800.00</td>\n",
       "      <td>20642.00</td>\n",
       "      <td>19703.20</td>\n",
       "      <td>20517.80</td>\n",
       "      <td>21870.00</td>\n",
       "      <td>13959.80</td>\n",
       "      <td>ABBOTINDIA</td>\n",
       "      <td>76.62</td>\n",
       "      <td>-44.32</td>\n",
       "      <td>52.533572</td>\n",
       "      <td>No Signal</td>\n",
       "      <td>Undeterministic</td>\n",
       "      <td>0</td>\n",
       "      <td>700.842857</td>\n",
       "      <td>Unknown</td>\n",
       "      <td>Unknown</td>\n",
       "      <td>Unknown Green</td>\n",
       "      <td>Nifty 100</td>\n",
       "      <td>inf</td>\n",
       "      <td>inf</td>\n",
       "    </tr>\n",
       "    <tr>\n",
       "      <th>10</th>\n",
       "      <td>2021-09-30</td>\n",
       "      <td>3948.00</td>\n",
       "      <td>4000.00</td>\n",
       "      <td>3894.95</td>\n",
       "      <td>3980.75</td>\n",
       "      <td>4070.00</td>\n",
       "      <td>2540.05</td>\n",
       "      <td>ALKEM</td>\n",
       "      <td>135.62</td>\n",
       "      <td>92.01</td>\n",
       "      <td>63.917491</td>\n",
       "      <td>No Signal</td>\n",
       "      <td>Rising High</td>\n",
       "      <td>0</td>\n",
       "      <td>99.635714</td>\n",
       "      <td>Reverse V Pattern</td>\n",
       "      <td>Unknown</td>\n",
       "      <td>Unknown Green</td>\n",
       "      <td>Nifty 100</td>\n",
       "      <td>5.64</td>\n",
       "      <td>338.83</td>\n",
       "    </tr>\n",
       "  </tbody>\n",
       "</table>\n",
       "</div>"
      ],
      "text/plain": [
       "         DATE      OPEN      HIGH       LOW     CLOSE     52W H     52W L  \\\n",
       "3  2021-09-30   2729.90   2785.00   2721.20   2754.30   2896.00   1658.00   \n",
       "9  2021-09-30   1209.15   1219.00   1196.75   1215.10   1253.65    755.25   \n",
       "0  2021-09-30    331.25    337.90    329.10    333.35    360.75    126.00   \n",
       "7  2021-09-30   1368.00   1382.55   1361.30   1373.10   1482.70    659.50   \n",
       "14 2021-09-30   1586.00   1606.35   1583.10   1594.95   1641.00   1042.65   \n",
       "1  2021-09-30   1559.00   1610.00   1553.70   1571.50   1686.00    897.00   \n",
       "4  2021-09-30   2685.30   2705.30   2681.95   2701.80   2859.30   2024.75   \n",
       "6  2021-09-30  19800.00  20642.00  19703.20  20517.80  21870.00  13959.80   \n",
       "10 2021-09-30   3948.00   4000.00   3894.95   3980.75   4070.00   2540.05   \n",
       "\n",
       "        SYMBOL    Diff  CCI Value  RSI Value MACD Signal        Direction  \\\n",
       "3         HDFC    3.20     -91.76  48.531599   No Signal      Rising High   \n",
       "9      SBILIFE   24.95      16.34  59.066975   No Signal      Rising High   \n",
       "0   TATAMOTORS   28.27     145.60  69.366305   No Signal  Undeterministic   \n",
       "7      HAVELLS   41.55    -137.31  50.818110   No Signal  Undeterministic   \n",
       "14    HDFCBANK   44.26      82.78  57.739030   No Signal      Rising High   \n",
       "1          UBL   47.83     -48.59  53.136471   No Signal      Rising High   \n",
       "4   HINDUNILVR   64.60    -178.53  49.573337   No Signal  Undeterministic   \n",
       "6   ABBOTINDIA   76.62     -44.32  52.533572   No Signal  Undeterministic   \n",
       "10       ALKEM  135.62      92.01  63.917491   No Signal      Rising High   \n",
       "\n",
       "    Ichi         ATR      Triple Candle Double Candle    Recent Candle  \\\n",
       "3      0   60.389286            Unknown       Unknown    Unknown Green   \n",
       "9      0   23.075000            Unknown       Unknown    Unknown Green   \n",
       "0      1   10.017857          V Pattern       Unknown  Inverted Hammer   \n",
       "7      0   35.228571          V Pattern       Unknown       Green Doji   \n",
       "14     0   30.357143            Unknown       Unknown    Unknown Green   \n",
       "1      0   53.500000            Unknown       Unknown  Inverted Hammer   \n",
       "4      0   56.082143            Unknown       Unknown    Unknown Green   \n",
       "6      0  700.842857            Unknown       Unknown    Unknown Green   \n",
       "10     0   99.635714  Reverse V Pattern       Unknown    Unknown Green   \n",
       "\n",
       "        Index  Expected Change %  Max Config Risk  \n",
       "3    Nifty 50               4.97           346.53  \n",
       "9    Nifty 50               4.04           394.65  \n",
       "0    Nifty 50               8.61           393.17  \n",
       "7   Nifty 100               4.95           377.12  \n",
       "14   Nifty 50               3.29           396.59  \n",
       "1   Nifty 100               9.03           364.00  \n",
       "4    Nifty 50               2.49           370.51  \n",
       "6   Nifty 100                inf              inf  \n",
       "10  Nifty 100               5.64           338.83  "
      ]
     },
     "execution_count": 7,
     "metadata": {},
     "output_type": "execute_result"
    }
   ],
   "source": [
    "budget = 40000 # Total Budget\n",
    "risk = 400 # Risk per trade\n",
    "df = In.show_full_stats(budget=budget,risk=risk, diff = 151, nifty='nifty_100') # Show only stocks undder your budget and  whose recent candle's lowest is not more than 151 rupees above the moving average line\n",
    "df[(df['RSI Value'] < 70) & (df['CCI Value'] < 200)]"
   ]
  },
  {
   "cell_type": "markdown",
   "id": "3e2a1bc0",
   "metadata": {},
   "source": [
    "## Golden Crossover\n",
    "When 44 days `SMA` Crosses 200 days `SMA` from below and you find a `Green` candle within 15 days taking support on `44` days line set Risk to Reward ratio as 1:5"
   ]
  },
  {
   "cell_type": "code",
   "execution_count": 11,
   "id": "fcd5e70d",
   "metadata": {},
   "outputs": [
    {
     "name": "stdout",
     "output_type": "stream",
     "text": [
      "ESCORTS\n",
      "HDFCLIFE\n",
      "ITC\n",
      "INDIAMART\n",
      "ZEEL\n"
     ]
    }
   ],
   "source": [
    "for name in In.data['nifty_200']:\n",
    "    df = In.open_downloaded_stock(name)\n",
    "    if In.has_golden_crossover(df,lookback=21):\n",
    "        print(name)"
   ]
  },
  {
   "cell_type": "markdown",
   "id": "3b38c804",
   "metadata": {},
   "source": [
    "## RSI Signal: Oversold / Overbought Stocks\n",
    "Buy when RSI is less than 30 sell when greater than 70"
   ]
  },
  {
   "cell_type": "code",
   "execution_count": 8,
   "id": "63c9ac17",
   "metadata": {},
   "outputs": [
    {
     "name": "stdout",
     "output_type": "stream",
     "text": [
      "CESC\n"
     ]
    }
   ],
   "source": [
    "for name in In.data['nifty_200']:\n",
    "    df = In.open_downloaded_stock(name)\n",
    "    if In.get_RSI(df) < 30: # Oversold\n",
    "        print(name)"
   ]
  },
  {
   "cell_type": "markdown",
   "id": "6175d2d1",
   "metadata": {},
   "source": [
    "## MACD Signal\n",
    "It is the strategy when MACD (Blue) Line cuts the Signal (Red) line from below then it is a buy signal. When the blue line cuts from upside down, it is sell signal"
   ]
  },
  {
   "cell_type": "code",
   "execution_count": null,
   "id": "aba90c8a",
   "metadata": {},
   "outputs": [
    {
     "name": "stdout",
     "output_type": "stream",
     "text": [
      "AJANTPHARM\n",
      "BEL\n",
      "CANBK\n",
      "UNIONBANK\n",
      "VGUARD\n"
     ]
    }
   ],
   "source": [
    "for name in In.data['nifty_200']:\n",
    "    df = In.open_downloaded_stock(name)\n",
    "    if In.macd_signal(df) == 'Buy':\n",
    "        print(name)"
   ]
  },
  {
   "cell_type": "markdown",
   "id": "876acc69",
   "metadata": {},
   "source": [
    "## CCI Signal : Rally\n",
    "**Faster than MACD Signal works closely with Stochastic RSI**\n",
    "\n",
    "When CCI values comes from below  -100 to above -100, buy signal and when it comes from above +100 to below +100, sell signal"
   ]
  },
  {
   "cell_type": "code",
   "execution_count": 9,
   "id": "1c999e11",
   "metadata": {},
   "outputs": [
    {
     "name": "stdout",
     "output_type": "stream",
     "text": [
      "('ADANIPORTS', 'Nifty 50')\n",
      "('CADILAHC', 'Nifty 100')\n",
      "('ICICIPRULI', 'Nifty 100')\n",
      "('IGL', 'Nifty 100')\n",
      "('JUBLFOOD', 'Nifty 100')\n",
      "('SIEMENS', 'Nifty 100')\n"
     ]
    }
   ],
   "source": [
    "for name in In.data['nifty_100']:\n",
    "    df = In.open_downloaded_stock(name)\n",
    "    if In.get_CCI(df, signal_only = True) == 'Buy':\n",
    "        print((name, In.get_index(name)))"
   ]
  },
  {
   "cell_type": "markdown",
   "id": "dee9e112",
   "metadata": {},
   "source": [
    "# <font color='teal'>Intraday Strategies</font>"
   ]
  },
  {
   "cell_type": "markdown",
   "id": "73ec108a",
   "metadata": {},
   "source": [
    "## Narrow Range 7\n",
    "If recent candle's range is lowest among 6 other days then the future candle might break it's low/high"
   ]
  },
  {
   "cell_type": "code",
   "execution_count": null,
   "id": "b31d19a2",
   "metadata": {},
   "outputs": [
    {
     "name": "stdout",
     "output_type": "stream",
     "text": [
      "ADANIGREEN\n",
      "BANDHANBNK\n",
      "HINDALCO\n",
      "ICICIGI\n",
      "UBL\n"
     ]
    }
   ],
   "source": [
    "for name in In.data['nifty_100']:\n",
    "    if Intra.NR7_strategy(name):\n",
    "        print(name)"
   ]
  },
  {
   "cell_type": "markdown",
   "id": "82119e0d",
   "metadata": {},
   "source": [
    "## Whole Number Open\n",
    "When Open == Low / High in Whole number as `xxx.00` within 15 minutes"
   ]
  },
  {
   "cell_type": "code",
   "execution_count": null,
   "id": "4d9cee2d",
   "metadata": {},
   "outputs": [
    {
     "name": "stdout",
     "output_type": "stream",
     "text": [
      "Long :\n",
      "\n",
      "('SBICARD', '1.68%', 'Nifty 100') \n",
      "\n",
      "('CADILAHC', '3.96%', 'Nifty 100') \n",
      "\n",
      "('OBEROIRLTY', '7.72%', 'Nifty 200') \n",
      "\n",
      "('EXIDEIND', '2.44%', 'Nifty 200') \n",
      "\n",
      "Short :\n",
      "\n",
      "('RELIANCE', '-1.94%', 'Nifty 50') \n",
      "\n",
      "('AMBUJACEM', '-2.16%', 'Nifty 100') \n",
      "\n"
     ]
    }
   ],
   "source": [
    "result = Intra.whole_number_strategy(nifty=200, min_val=101,max_val=4999)\n",
    "for key in result.keys():\n",
    "    print(key,\":\\n\")\n",
    "    for r in sorted(result[key],key=lambda x: int(x[-1].split(' ')[-1])):\n",
    "        print(r,'\\n')"
   ]
  },
  {
   "cell_type": "markdown",
   "id": "deb1067b",
   "metadata": {},
   "source": [
    "## `%` Change probability\n",
    "Gives the stock names which have the highest probability of providing you `x%` in intraday atleast on both long or short side based on the previous `N` days record"
   ]
  },
  {
   "cell_type": "code",
   "execution_count": null,
   "id": "b5695a17",
   "metadata": {},
   "outputs": [
    {
     "data": {
      "text/plain": [
       "{'SUNTECK': {'Long Probability': 0.83, 'Short Probability': 0.63},\n",
       " 'IDEA': {'Long Probability': 0.83, 'Short Probability': 0.77},\n",
       " 'LINDEINDIA': {'Long Probability': 0.82, 'Short Probability': 0.7},\n",
       " 'GUJALKALI': {'Long Probability': 0.78, 'Short Probability': 0.47},\n",
       " 'HFCL': {'Long Probability': 0.78, 'Short Probability': 0.68},\n",
       " 'IBREALEST': {'Long Probability': 0.78, 'Short Probability': 0.78},\n",
       " 'SPARC': {'Long Probability': 0.78, 'Short Probability': 0.68},\n",
       " 'ADANITRANS': {'Long Probability': 0.77, 'Short Probability': 0.67},\n",
       " 'BAJAJELEC': {'Long Probability': 0.77, 'Short Probability': 0.68},\n",
       " 'BRIGADE': {'Long Probability': 0.77, 'Short Probability': 0.73}}"
      ]
     },
     "execution_count": 36,
     "metadata": {},
     "output_type": "execute_result"
    }
   ],
   "source": [
    "# Gives you top 10 stocks from Nifty 500 which have the highest probability of giving atleast 0.99% on your investment based on the Long/Buy position. Data is based on past 60 trading days\n",
    "# Test it for different time duration, index, % change and Long / Short criteria based on overall market trend\n",
    "\n",
    "Intra.prob_by_percent_change(symbol = None, index = 500, time_period = 60, change_percent=0.099, sort_by='Long Probability', top_k = 10) "
   ]
  },
  {
   "cell_type": "markdown",
   "id": "39c532ac",
   "metadata": {},
   "source": [
    "# <font color='Teal'>Live Data</font>\n",
    "\n",
    "\n",
    "## Market Sentiment: TICK, TRIN (Arm's Index) & 52W high-Low touching shares\n"
   ]
  },
  {
   "cell_type": "code",
   "execution_count": 10,
   "id": "314a01cc",
   "metadata": {},
   "outputs": [
    {
     "data": {
      "text/plain": [
       "{'Latest Updated on': '01/10/2021 09:39:59',\n",
       " 'Up': 735,\n",
       " 'Down': 755,\n",
       " 'TICK': -20,\n",
       " 'Volume Up': 249.04,\n",
       " 'Volume Down': 256.18,\n",
       " 'TRIN': 1.002,\n",
       " '52W High': 35,\n",
       " '52W Low': 5}"
      ]
     },
     "execution_count": 10,
     "metadata": {},
     "output_type": "execute_result"
    }
   ],
   "source": [
    "MS.get_live_sentiment()"
   ]
  },
  {
   "cell_type": "markdown",
   "id": "a743b71c",
   "metadata": {},
   "source": [
    "## Indices Based\n",
    "Buy or Sell stock based on which indices are performing highest in first 5 mins. Buy or sell stocks only for those indices which arevperforming the greatest"
   ]
  },
  {
   "cell_type": "code",
   "execution_count": null,
   "id": "1e228d43",
   "metadata": {},
   "outputs": [
    {
     "data": {
      "text/html": [
       "<div>\n",
       "<style scoped>\n",
       "    .dataframe tbody tr th:only-of-type {\n",
       "        vertical-align: middle;\n",
       "    }\n",
       "\n",
       "    .dataframe tbody tr th {\n",
       "        vertical-align: top;\n",
       "    }\n",
       "\n",
       "    .dataframe thead th {\n",
       "        text-align: right;\n",
       "    }\n",
       "</style>\n",
       "<table border=\"1\" class=\"dataframe\">\n",
       "  <thead>\n",
       "    <tr style=\"text-align: right;\">\n",
       "      <th></th>\n",
       "      <th>index</th>\n",
       "      <th>percentChange</th>\n",
       "      <th>key</th>\n",
       "      <th>variation</th>\n",
       "    </tr>\n",
       "  </thead>\n",
       "  <tbody>\n",
       "    <tr>\n",
       "      <th>48</th>\n",
       "      <td>NIFTY CPSE</td>\n",
       "      <td>4.21</td>\n",
       "      <td>THEMATIC INDICES</td>\n",
       "      <td>95.80</td>\n",
       "    </tr>\n",
       "    <tr>\n",
       "      <th>54</th>\n",
       "      <td>NIFTY PSE</td>\n",
       "      <td>3.00</td>\n",
       "      <td>THEMATIC INDICES</td>\n",
       "      <td>120.00</td>\n",
       "    </tr>\n",
       "    <tr>\n",
       "      <th>24</th>\n",
       "      <td>NIFTY PSU BANK</td>\n",
       "      <td>2.69</td>\n",
       "      <td>SECTORAL INDICES</td>\n",
       "      <td>64.50</td>\n",
       "    </tr>\n",
       "    <tr>\n",
       "      <th>22</th>\n",
       "      <td>NIFTY METAL</td>\n",
       "      <td>2.28</td>\n",
       "      <td>SECTORAL INDICES</td>\n",
       "      <td>126.40</td>\n",
       "    </tr>\n",
       "    <tr>\n",
       "      <th>49</th>\n",
       "      <td>NIFTY ENERGY</td>\n",
       "      <td>1.97</td>\n",
       "      <td>THEMATIC INDICES</td>\n",
       "      <td>443.15</td>\n",
       "    </tr>\n",
       "    <tr>\n",
       "      <th>23</th>\n",
       "      <td>NIFTY PHARMA</td>\n",
       "      <td>1.65</td>\n",
       "      <td>SECTORAL INDICES</td>\n",
       "      <td>233.75</td>\n",
       "    </tr>\n",
       "    <tr>\n",
       "      <th>46</th>\n",
       "      <td>NIFTY COMMODITIES</td>\n",
       "      <td>1.51</td>\n",
       "      <td>THEMATIC INDICES</td>\n",
       "      <td>84.95</td>\n",
       "    </tr>\n",
       "    <tr>\n",
       "      <th>27</th>\n",
       "      <td>NIFTY HEALTHCARE INDEX</td>\n",
       "      <td>1.15</td>\n",
       "      <td>SECTORAL INDICES</td>\n",
       "      <td>101.70</td>\n",
       "    </tr>\n",
       "    <tr>\n",
       "      <th>45</th>\n",
       "      <td>NIFTY200 MOMENTUM 30</td>\n",
       "      <td>1.14</td>\n",
       "      <td>STRATEGY INDICES</td>\n",
       "      <td>223.95</td>\n",
       "    </tr>\n",
       "    <tr>\n",
       "      <th>26</th>\n",
       "      <td>NIFTY REALTY</td>\n",
       "      <td>1.14</td>\n",
       "      <td>SECTORAL INDICES</td>\n",
       "      <td>5.70</td>\n",
       "    </tr>\n",
       "  </tbody>\n",
       "</table>\n",
       "</div>"
      ],
      "text/plain": [
       "                     index  percentChange               key  variation\n",
       "48              NIFTY CPSE           4.21  THEMATIC INDICES      95.80\n",
       "54               NIFTY PSE           3.00  THEMATIC INDICES     120.00\n",
       "24          NIFTY PSU BANK           2.69  SECTORAL INDICES      64.50\n",
       "22             NIFTY METAL           2.28  SECTORAL INDICES     126.40\n",
       "49            NIFTY ENERGY           1.97  THEMATIC INDICES     443.15\n",
       "23            NIFTY PHARMA           1.65  SECTORAL INDICES     233.75\n",
       "46       NIFTY COMMODITIES           1.51  THEMATIC INDICES      84.95\n",
       "27  NIFTY HEALTHCARE INDEX           1.15  SECTORAL INDICES     101.70\n",
       "45    NIFTY200 MOMENTUM 30           1.14  STRATEGY INDICES     223.95\n",
       "26            NIFTY REALTY           1.14  SECTORAL INDICES       5.70"
      ]
     },
     "execution_count": 38,
     "metadata": {},
     "output_type": "execute_result"
    }
   ],
   "source": [
    "NSE.current_indices_status(10) # Live as of market is open. works post market also"
   ]
  },
  {
   "cell_type": "code",
   "execution_count": null,
   "id": "90437d91",
   "metadata": {},
   "outputs": [
    {
     "data": {
      "text/html": [
       "<div>\n",
       "<style scoped>\n",
       "    .dataframe tbody tr th:only-of-type {\n",
       "        vertical-align: middle;\n",
       "    }\n",
       "\n",
       "    .dataframe tbody tr th {\n",
       "        vertical-align: top;\n",
       "    }\n",
       "\n",
       "    .dataframe thead th {\n",
       "        text-align: right;\n",
       "    }\n",
       "</style>\n",
       "<table border=\"1\" class=\"dataframe\">\n",
       "  <thead>\n",
       "    <tr style=\"text-align: right;\">\n",
       "      <th></th>\n",
       "      <th>symbol</th>\n",
       "      <th>pChange</th>\n",
       "      <th>open</th>\n",
       "      <th>dayHigh</th>\n",
       "      <th>dayLow</th>\n",
       "      <th>lastPrice</th>\n",
       "      <th>Index</th>\n",
       "    </tr>\n",
       "  </thead>\n",
       "  <tbody>\n",
       "    <tr>\n",
       "      <th>1</th>\n",
       "      <td>OIL</td>\n",
       "      <td>8.94</td>\n",
       "      <td>232.40</td>\n",
       "      <td>265.00</td>\n",
       "      <td>229.00</td>\n",
       "      <td>254.10</td>\n",
       "      <td>Nifty 200</td>\n",
       "    </tr>\n",
       "    <tr>\n",
       "      <th>2</th>\n",
       "      <td>NTPC</td>\n",
       "      <td>6.93</td>\n",
       "      <td>131.40</td>\n",
       "      <td>144.25</td>\n",
       "      <td>130.60</td>\n",
       "      <td>141.10</td>\n",
       "      <td>Nifty 50</td>\n",
       "    </tr>\n",
       "    <tr>\n",
       "      <th>3</th>\n",
       "      <td>COALINDIA</td>\n",
       "      <td>6.24</td>\n",
       "      <td>174.50</td>\n",
       "      <td>197.00</td>\n",
       "      <td>172.80</td>\n",
       "      <td>185.45</td>\n",
       "      <td>Nifty 50</td>\n",
       "    </tr>\n",
       "    <tr>\n",
       "      <th>4</th>\n",
       "      <td>POWERGRID</td>\n",
       "      <td>6.12</td>\n",
       "      <td>183.50</td>\n",
       "      <td>196.30</td>\n",
       "      <td>182.45</td>\n",
       "      <td>195.20</td>\n",
       "      <td>Nifty 50</td>\n",
       "    </tr>\n",
       "    <tr>\n",
       "      <th>5</th>\n",
       "      <td>NATIONALUM</td>\n",
       "      <td>6.07</td>\n",
       "      <td>88.10</td>\n",
       "      <td>95.60</td>\n",
       "      <td>88.10</td>\n",
       "      <td>94.40</td>\n",
       "      <td>Nifty 500</td>\n",
       "    </tr>\n",
       "    <tr>\n",
       "      <th>6</th>\n",
       "      <td>BHEL</td>\n",
       "      <td>4.06</td>\n",
       "      <td>60.90</td>\n",
       "      <td>63.95</td>\n",
       "      <td>60.40</td>\n",
       "      <td>62.80</td>\n",
       "      <td>Nifty 200</td>\n",
       "    </tr>\n",
       "    <tr>\n",
       "      <th>7</th>\n",
       "      <td>IOC</td>\n",
       "      <td>3.82</td>\n",
       "      <td>122.25</td>\n",
       "      <td>127.80</td>\n",
       "      <td>122.00</td>\n",
       "      <td>127.65</td>\n",
       "      <td>Nifty 50</td>\n",
       "    </tr>\n",
       "    <tr>\n",
       "      <th>8</th>\n",
       "      <td>NHPC</td>\n",
       "      <td>3.71</td>\n",
       "      <td>28.90</td>\n",
       "      <td>29.40</td>\n",
       "      <td>28.40</td>\n",
       "      <td>29.35</td>\n",
       "      <td>Nifty 500</td>\n",
       "    </tr>\n",
       "    <tr>\n",
       "      <th>9</th>\n",
       "      <td>SAIL</td>\n",
       "      <td>3.40</td>\n",
       "      <td>112.40</td>\n",
       "      <td>115.40</td>\n",
       "      <td>110.60</td>\n",
       "      <td>114.10</td>\n",
       "      <td>Nifty 200</td>\n",
       "    </tr>\n",
       "    <tr>\n",
       "      <th>10</th>\n",
       "      <td>HINDPETRO</td>\n",
       "      <td>3.05</td>\n",
       "      <td>292.40</td>\n",
       "      <td>300.60</td>\n",
       "      <td>289.00</td>\n",
       "      <td>300.50</td>\n",
       "      <td>Nifty 100</td>\n",
       "    </tr>\n",
       "  </tbody>\n",
       "</table>\n",
       "</div>"
      ],
      "text/plain": [
       "        symbol  pChange    open  dayHigh  dayLow  lastPrice      Index\n",
       "1          OIL     8.94  232.40   265.00  229.00     254.10  Nifty 200\n",
       "2         NTPC     6.93  131.40   144.25  130.60     141.10   Nifty 50\n",
       "3    COALINDIA     6.24  174.50   197.00  172.80     185.45   Nifty 50\n",
       "4    POWERGRID     6.12  183.50   196.30  182.45     195.20   Nifty 50\n",
       "5   NATIONALUM     6.07   88.10    95.60   88.10      94.40  Nifty 500\n",
       "6         BHEL     4.06   60.90    63.95   60.40      62.80  Nifty 200\n",
       "7          IOC     3.82  122.25   127.80  122.00     127.65   Nifty 50\n",
       "8         NHPC     3.71   28.90    29.40   28.40      29.35  Nifty 500\n",
       "9         SAIL     3.40  112.40   115.40  110.60     114.10  Nifty 200\n",
       "10   HINDPETRO     3.05  292.40   300.60  289.00     300.50  Nifty 100"
      ]
     },
     "execution_count": 39,
     "metadata": {},
     "output_type": "execute_result"
    }
   ],
   "source": [
    "NSE.open_nse_index('NIFTY PSE')"
   ]
  },
  {
   "cell_type": "markdown",
   "id": "097aad0b",
   "metadata": {},
   "source": [
    "# <font color='teal'>Back Testing</font>"
   ]
  },
  {
   "cell_type": "markdown",
   "id": "b0c8160b-2c16-44b7-a66d-ee03ad50db9a",
   "metadata": {},
   "source": [
    "## CCI\n",
    "`BT.cci('SHREECEM', In.open_downloaded_stock('SHREECEM'))` , for individual stock data performance to tell how much a stock would have gained or lost"
   ]
  },
  {
   "cell_type": "code",
   "execution_count": 3,
   "id": "ed4a2ee0-c941-40c6-b790-2defdb6b2610",
   "metadata": {},
   "outputs": [
    {
     "data": {
      "text/html": [
       "<div>\n",
       "<style scoped>\n",
       "    .dataframe tbody tr th:only-of-type {\n",
       "        vertical-align: middle;\n",
       "    }\n",
       "\n",
       "    .dataframe tbody tr th {\n",
       "        vertical-align: top;\n",
       "    }\n",
       "\n",
       "    .dataframe thead th {\n",
       "        text-align: right;\n",
       "    }\n",
       "</style>\n",
       "<table border=\"1\" class=\"dataframe\">\n",
       "  <thead>\n",
       "    <tr style=\"text-align: right;\">\n",
       "      <th></th>\n",
       "      <th>sell_date</th>\n",
       "      <th>sell_price</th>\n",
       "      <th>sells</th>\n",
       "      <th>Total P&amp;L</th>\n",
       "      <th>buy_date</th>\n",
       "      <th>hold_period</th>\n",
       "      <th>buy_price</th>\n",
       "      <th>buys</th>\n",
       "      <th>days</th>\n",
       "      <th>p&amp;l</th>\n",
       "    </tr>\n",
       "  </thead>\n",
       "  <tbody>\n",
       "    <tr>\n",
       "      <th>ZEEL</th>\n",
       "      <td>[2020-04-27 00:00:00, 2020-09-01 00:00:00, 202...</td>\n",
       "      <td>[150.9, 205.0, 194.9, 220.3, 220.0, 306.0]</td>\n",
       "      <td>6</td>\n",
       "      <td>151.1</td>\n",
       "      <td>[2020-03-27 00:00:00, 2020-07-24 00:00:00, 202...</td>\n",
       "      <td>[31, 39, 49, 25, 65, 86]</td>\n",
       "      <td>[132.0, 158.95, 210.0, 217.25, 209.0, 218.8]</td>\n",
       "      <td>6</td>\n",
       "      <td>408</td>\n",
       "      <td>[18.900000000000006, 46.05000000000001, -15.09...</td>\n",
       "    </tr>\n",
       "  </tbody>\n",
       "</table>\n",
       "</div>"
      ],
      "text/plain": [
       "                                              sell_date  \\\n",
       "ZEEL  [2020-04-27 00:00:00, 2020-09-01 00:00:00, 202...   \n",
       "\n",
       "                                      sell_price sells Total P&L  \\\n",
       "ZEEL  [150.9, 205.0, 194.9, 220.3, 220.0, 306.0]     6     151.1   \n",
       "\n",
       "                                               buy_date  \\\n",
       "ZEEL  [2020-03-27 00:00:00, 2020-07-24 00:00:00, 202...   \n",
       "\n",
       "                   hold_period                                     buy_price  \\\n",
       "ZEEL  [31, 39, 49, 25, 65, 86]  [132.0, 158.95, 210.0, 217.25, 209.0, 218.8]   \n",
       "\n",
       "     buys days                                                p&l  \n",
       "ZEEL    6  408  [18.900000000000006, 46.05000000000001, -15.09...  "
      ]
     },
     "execution_count": 3,
     "metadata": {},
     "output_type": "execute_result"
    }
   ],
   "source": [
    "cci_parameters = {'buying_thresh':-100, 'selling_thresh':100, 'window':20, 'cols':('OPEN','CLOSE','LOW','HIGH', 'DATE')} # check documentation of BT.cci()\n",
    "\n",
    "# Using the CCI strategy, Return top gaining stocks which have traded atleast 365 recent days and are currently in nifty-500\n",
    "BT.backtest('cci', min_days = 365, nifty = 'nifty_200', **cci_parameters)"
   ]
  },
  {
   "cell_type": "markdown",
   "id": "3369bdc8",
   "metadata": {},
   "source": [
    "## RSI"
   ]
  },
  {
   "cell_type": "code",
   "execution_count": 4,
   "id": "59e47041",
   "metadata": {},
   "outputs": [
    {
     "data": {
      "text/html": [
       "<div>\n",
       "<style scoped>\n",
       "    .dataframe tbody tr th:only-of-type {\n",
       "        vertical-align: middle;\n",
       "    }\n",
       "\n",
       "    .dataframe tbody tr th {\n",
       "        vertical-align: top;\n",
       "    }\n",
       "\n",
       "    .dataframe thead th {\n",
       "        text-align: right;\n",
       "    }\n",
       "</style>\n",
       "<table border=\"1\" class=\"dataframe\">\n",
       "  <thead>\n",
       "    <tr style=\"text-align: right;\">\n",
       "      <th></th>\n",
       "      <th>sell_date</th>\n",
       "      <th>sell_price</th>\n",
       "      <th>sells</th>\n",
       "      <th>Total P&amp;L</th>\n",
       "      <th>buy_date</th>\n",
       "      <th>hold_period</th>\n",
       "      <th>buy_price</th>\n",
       "      <th>buys</th>\n",
       "      <th>days</th>\n",
       "      <th>p&amp;l</th>\n",
       "    </tr>\n",
       "  </thead>\n",
       "  <tbody>\n",
       "    <tr>\n",
       "      <th>WIPRO</th>\n",
       "      <td>[2020-06-01 00:00:00]</td>\n",
       "      <td>[215.5]</td>\n",
       "      <td>1</td>\n",
       "      <td>-8.5</td>\n",
       "      <td>[2020-03-03 00:00:00]</td>\n",
       "      <td>[90]</td>\n",
       "      <td>[224.0]</td>\n",
       "      <td>1</td>\n",
       "      <td>408</td>\n",
       "      <td>[-8.5]</td>\n",
       "    </tr>\n",
       "  </tbody>\n",
       "</table>\n",
       "</div>"
      ],
      "text/plain": [
       "                   sell_date sell_price sells Total P&L  \\\n",
       "WIPRO  [2020-06-01 00:00:00]    [215.5]     1      -8.5   \n",
       "\n",
       "                    buy_date hold_period buy_price buys days     p&l  \n",
       "WIPRO  [2020-03-03 00:00:00]        [90]   [224.0]    1  408  [-8.5]  "
      ]
     },
     "execution_count": 4,
     "metadata": {},
     "output_type": "execute_result"
    }
   ],
   "source": [
    "BT.backtest('rsi')"
   ]
  },
  {
   "cell_type": "markdown",
   "id": "2336cbed-6ed3-4b80-9689-204b46bb6846",
   "metadata": {},
   "source": [
    "## MACD"
   ]
  },
  {
   "cell_type": "code",
   "execution_count": 5,
   "id": "2f80e0b4-8c99-4ffc-8a03-3367bf3d5552",
   "metadata": {},
   "outputs": [
    {
     "data": {
      "text/html": [
       "<div>\n",
       "<style scoped>\n",
       "    .dataframe tbody tr th:only-of-type {\n",
       "        vertical-align: middle;\n",
       "    }\n",
       "\n",
       "    .dataframe tbody tr th {\n",
       "        vertical-align: top;\n",
       "    }\n",
       "\n",
       "    .dataframe thead th {\n",
       "        text-align: right;\n",
       "    }\n",
       "</style>\n",
       "<table border=\"1\" class=\"dataframe\">\n",
       "  <thead>\n",
       "    <tr style=\"text-align: right;\">\n",
       "      <th></th>\n",
       "      <th>sell_date</th>\n",
       "      <th>sell_price</th>\n",
       "      <th>sells</th>\n",
       "      <th>Total P&amp;L</th>\n",
       "      <th>buy_date</th>\n",
       "      <th>hold_period</th>\n",
       "      <th>buy_price</th>\n",
       "      <th>buys</th>\n",
       "      <th>days</th>\n",
       "      <th>p&amp;l</th>\n",
       "    </tr>\n",
       "  </thead>\n",
       "  <tbody>\n",
       "    <tr>\n",
       "      <th>WIPRO</th>\n",
       "      <td>[2020-08-07 00:00:00, 2020-09-30 00:00:00, 202...</td>\n",
       "      <td>[281.05, 312.0, 342.45, 354.45, 357.4, 445.15,...</td>\n",
       "      <td>14</td>\n",
       "      <td>225.7</td>\n",
       "      <td>[2020-07-16 00:00:00, 2020-09-11 00:00:00, 202...</td>\n",
       "      <td>[22, 19, 13, 7, 8, 32, 3, 1, 42, 10, 2, 27, 15...</td>\n",
       "      <td>[262.5, 282.5, 335.0, 357.9, 364.0, 386.45, 44...</td>\n",
       "      <td>14</td>\n",
       "      <td>408</td>\n",
       "      <td>[18.55000000000001, 29.5, 7.449999999999989, -...</td>\n",
       "    </tr>\n",
       "  </tbody>\n",
       "</table>\n",
       "</div>"
      ],
      "text/plain": [
       "                                               sell_date  \\\n",
       "WIPRO  [2020-08-07 00:00:00, 2020-09-30 00:00:00, 202...   \n",
       "\n",
       "                                              sell_price sells Total P&L  \\\n",
       "WIPRO  [281.05, 312.0, 342.45, 354.45, 357.4, 445.15,...    14     225.7   \n",
       "\n",
       "                                                buy_date  \\\n",
       "WIPRO  [2020-07-16 00:00:00, 2020-09-11 00:00:00, 202...   \n",
       "\n",
       "                                             hold_period  \\\n",
       "WIPRO  [22, 19, 13, 7, 8, 32, 3, 1, 42, 10, 2, 27, 15...   \n",
       "\n",
       "                                               buy_price buys days  \\\n",
       "WIPRO  [262.5, 282.5, 335.0, 357.9, 364.0, 386.45, 44...   14  408   \n",
       "\n",
       "                                                     p&l  \n",
       "WIPRO  [18.55000000000001, 29.5, 7.449999999999989, -...  "
      ]
     },
     "execution_count": 5,
     "metadata": {},
     "output_type": "execute_result"
    }
   ],
   "source": [
    "BT.backtest('macd')"
   ]
  },
  {
   "cell_type": "markdown",
   "id": "0906b395",
   "metadata": {},
   "source": [
    "# <font color='teal'>Risk Management</font>"
   ]
  },
  {
   "cell_type": "code",
   "execution_count": null,
   "id": "af4785b4",
   "metadata": {},
   "outputs": [
    {
     "data": {
      "text/plain": [
       "{'Buying Price': 368.5,\n",
       " 'Stop-Loss %': 13.43,\n",
       " 'Target %': 26.85,\n",
       " 'Quantity': 8.0,\n",
       " 'Stop-Loss Price': 319,\n",
       " 'Trigger Price': 467.45,\n",
       " 'Risk Per Share': 49.5,\n",
       " 'Profit Per Share': 98.95,\n",
       " 'Max loss on this config': 396.0,\n",
       " 'Max Gain on this config': 791.6,\n",
       " 'Price To Profit Ratio': 3.72,\n",
       " 'Index': 'Other'}"
      ]
     },
     "execution_count": 43,
     "metadata": {},
     "output_type": "execute_result"
    }
   ],
   "source": [
    "# You have a total budget of 40K, and a risk apetite of rs 400 per trade\n",
    "# You can set manual such as # entry = 3980.1, stop_loss=3780.5\n",
    "\n",
    "In.get_particulars('NIITLTD',40000,400,entry = 368.5, stop_loss=319)"
   ]
  }
 ],
 "metadata": {
  "interpreter": {
   "hash": "534e9bab96a16873bd5818160023b2fa3dafead0b053853c8e30f386908077f9"
  },
  "kernelspec": {
   "display_name": "Python 3 (ipykernel)",
   "language": "python",
   "name": "python3"
  },
  "language_info": {
   "codemirror_mode": {
    "name": "ipython",
    "version": 3
   },
   "file_extension": ".py",
   "mimetype": "text/x-python",
   "name": "python",
   "nbconvert_exporter": "python",
   "pygments_lexer": "ipython3",
   "version": "3.7.10"
  }
 },
 "nbformat": 4,
 "nbformat_minor": 5
}
